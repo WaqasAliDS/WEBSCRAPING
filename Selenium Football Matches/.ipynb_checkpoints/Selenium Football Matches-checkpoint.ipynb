{
 "cells": [
  {
   "cell_type": "code",
   "execution_count": 1,
   "id": "61d19d89",
   "metadata": {},
   "outputs": [],
   "source": [
    "import pandas as pd\n",
    "from selenium import webdriver\n",
    "from selenium.webdriver.chrome.service import Service\n",
    "from selenium.webdriver.common.by import By\n",
    "from selenium.webdriver.support.ui import WebDriverWait\n",
    "from selenium.webdriver.support import expected_conditions as EC\n",
    "from selenium.webdriver.common.keys import Keys"
   ]
  },
  {
   "cell_type": "code",
   "execution_count": 2,
   "id": "a8ff7d3d",
   "metadata": {},
   "outputs": [],
   "source": [
    "url = 'https://www.adamchoi.co.uk/teamgoals/detailed'"
   ]
  },
  {
   "cell_type": "code",
   "execution_count": 3,
   "id": "135320ce",
   "metadata": {},
   "outputs": [],
   "source": [
    "path = 'E:/DATA SCIENCE/Webscrapping/chromedriver-win64/chromedriver.exe'"
   ]
  },
  {
   "cell_type": "code",
   "execution_count": 4,
   "id": "59b1f107",
   "metadata": {},
   "outputs": [],
   "source": [
    "s = Service(path)"
   ]
  },
  {
   "cell_type": "code",
   "execution_count": 5,
   "id": "6866869f",
   "metadata": {},
   "outputs": [],
   "source": [
    "driver = webdriver.Chrome(service = s)"
   ]
  },
  {
   "cell_type": "code",
   "execution_count": 6,
   "id": "4b329ef6",
   "metadata": {},
   "outputs": [],
   "source": [
    "driver.get(url)"
   ]
  },
  {
   "cell_type": "code",
   "execution_count": 7,
   "id": "d58f0d8a",
   "metadata": {},
   "outputs": [],
   "source": [
    "box = WebDriverWait(driver, 10).until(EC.presence_of_element_located((By.XPATH, '//*[@id=\"page-wrapper\"]/div/home-away-selector/div/div/div/div/label[2]')))"
   ]
  },
  {
   "cell_type": "code",
   "execution_count": 8,
   "id": "ea2d0d0e",
   "metadata": {},
   "outputs": [],
   "source": [
    "box.click()"
   ]
  },
  {
   "cell_type": "code",
   "execution_count": 9,
   "id": "95a99ec9",
   "metadata": {},
   "outputs": [],
   "source": [
    " matches = driver.find_elements(By.CSS_SELECTOR, 'tr')"
   ]
  },
  {
   "cell_type": "code",
   "execution_count": 10,
   "id": "c9e67b99",
   "metadata": {},
   "outputs": [],
   "source": [
    "date = []\n",
    "home_team = []\n",
    "score = []\n",
    "away_team = []"
   ]
  },
  {
   "cell_type": "code",
   "execution_count": 11,
   "id": "5ae61389",
   "metadata": {},
   "outputs": [],
   "source": [
    "for match in matches:\n",
    "    cells = match.find_elements(By.TAG_NAME, 'td')\n",
    "    if len(cells) == 4:\n",
    "        date.append(cells[0].text)\n",
    "        home_team.append(cells[1].text)\n",
    "        score.append(cells[2].text)\n",
    "        away_team.append(cells[3].text)"
   ]
  },
  {
   "cell_type": "code",
   "execution_count": 12,
   "id": "9129b148",
   "metadata": {},
   "outputs": [],
   "source": [
    "data = {'Date': date,'Home Team': home_team,'Score': score,'Away Team': away_team}"
   ]
  },
  {
   "cell_type": "code",
   "execution_count": 13,
   "id": "eb1097d0",
   "metadata": {},
   "outputs": [],
   "source": [
    "df = pd.DataFrame(data)"
   ]
  },
  {
   "cell_type": "code",
   "execution_count": 14,
   "id": "b7bb19fd",
   "metadata": {},
   "outputs": [
    {
     "data": {
      "text/html": [
       "<div>\n",
       "<style scoped>\n",
       "    .dataframe tbody tr th:only-of-type {\n",
       "        vertical-align: middle;\n",
       "    }\n",
       "\n",
       "    .dataframe tbody tr th {\n",
       "        vertical-align: top;\n",
       "    }\n",
       "\n",
       "    .dataframe thead th {\n",
       "        text-align: right;\n",
       "    }\n",
       "</style>\n",
       "<table border=\"1\" class=\"dataframe\">\n",
       "  <thead>\n",
       "    <tr style=\"text-align: right;\">\n",
       "      <th></th>\n",
       "      <th>Date</th>\n",
       "      <th>Home Team</th>\n",
       "      <th>Score</th>\n",
       "      <th>Away Team</th>\n",
       "    </tr>\n",
       "  </thead>\n",
       "  <tbody>\n",
       "    <tr>\n",
       "      <th>0</th>\n",
       "      <td>12-08-2023</td>\n",
       "      <td>Arsenal</td>\n",
       "      <td>2 - 1</td>\n",
       "      <td>Nott'm Forest</td>\n",
       "    </tr>\n",
       "    <tr>\n",
       "      <th>1</th>\n",
       "      <td>21-08-2023</td>\n",
       "      <td>Crystal Palace</td>\n",
       "      <td>0 - 1</td>\n",
       "      <td>Arsenal</td>\n",
       "    </tr>\n",
       "    <tr>\n",
       "      <th>2</th>\n",
       "      <td>26-08-2023</td>\n",
       "      <td>Arsenal</td>\n",
       "      <td>2 - 2</td>\n",
       "      <td>Fulham</td>\n",
       "    </tr>\n",
       "    <tr>\n",
       "      <th>3</th>\n",
       "      <td>03-09-2023</td>\n",
       "      <td>Arsenal</td>\n",
       "      <td>3 - 1</td>\n",
       "      <td>Man United</td>\n",
       "    </tr>\n",
       "    <tr>\n",
       "      <th>4</th>\n",
       "      <td>17-09-2023</td>\n",
       "      <td>Everton</td>\n",
       "      <td>0 - 1</td>\n",
       "      <td>Arsenal</td>\n",
       "    </tr>\n",
       "    <tr>\n",
       "      <th>...</th>\n",
       "      <td>...</td>\n",
       "      <td>...</td>\n",
       "      <td>...</td>\n",
       "      <td>...</td>\n",
       "    </tr>\n",
       "    <tr>\n",
       "      <th>179</th>\n",
       "      <td>16-09-2023</td>\n",
       "      <td>Wolves</td>\n",
       "      <td>1 - 3</td>\n",
       "      <td>Liverpool</td>\n",
       "    </tr>\n",
       "    <tr>\n",
       "      <th>180</th>\n",
       "      <td>23-09-2023</td>\n",
       "      <td>Luton</td>\n",
       "      <td>1 - 1</td>\n",
       "      <td>Wolves</td>\n",
       "    </tr>\n",
       "    <tr>\n",
       "      <th>181</th>\n",
       "      <td>30-09-2023</td>\n",
       "      <td>Wolves</td>\n",
       "      <td>2 - 1</td>\n",
       "      <td>Man City</td>\n",
       "    </tr>\n",
       "    <tr>\n",
       "      <th>182</th>\n",
       "      <td>08-10-2023</td>\n",
       "      <td>Wolves</td>\n",
       "      <td>1 - 1</td>\n",
       "      <td>Aston Villa</td>\n",
       "    </tr>\n",
       "    <tr>\n",
       "      <th>183</th>\n",
       "      <td>21-10-2023</td>\n",
       "      <td>Bournemouth</td>\n",
       "      <td>1 - 2</td>\n",
       "      <td>Wolves</td>\n",
       "    </tr>\n",
       "  </tbody>\n",
       "</table>\n",
       "<p>184 rows × 4 columns</p>\n",
       "</div>"
      ],
      "text/plain": [
       "           Date       Home Team  Score      Away Team\n",
       "0    12-08-2023         Arsenal  2 - 1  Nott'm Forest\n",
       "1    21-08-2023  Crystal Palace  0 - 1        Arsenal\n",
       "2    26-08-2023         Arsenal  2 - 2         Fulham\n",
       "3    03-09-2023         Arsenal  3 - 1     Man United\n",
       "4    17-09-2023         Everton  0 - 1        Arsenal\n",
       "..          ...             ...    ...            ...\n",
       "179  16-09-2023          Wolves  1 - 3      Liverpool\n",
       "180  23-09-2023           Luton  1 - 1         Wolves\n",
       "181  30-09-2023          Wolves  2 - 1       Man City\n",
       "182  08-10-2023          Wolves  1 - 1    Aston Villa\n",
       "183  21-10-2023     Bournemouth  1 - 2         Wolves\n",
       "\n",
       "[184 rows x 4 columns]"
      ]
     },
     "execution_count": 14,
     "metadata": {},
     "output_type": "execute_result"
    }
   ],
   "source": [
    "df"
   ]
  },
  {
   "cell_type": "code",
   "execution_count": null,
   "id": "7e39e338",
   "metadata": {},
   "outputs": [],
   "source": []
  }
 ],
 "metadata": {
  "kernelspec": {
   "display_name": "Python 3 (ipykernel)",
   "language": "python",
   "name": "python3"
  },
  "language_info": {
   "codemirror_mode": {
    "name": "ipython",
    "version": 3
   },
   "file_extension": ".py",
   "mimetype": "text/x-python",
   "name": "python",
   "nbconvert_exporter": "python",
   "pygments_lexer": "ipython3",
   "version": "3.9.13"
  }
 },
 "nbformat": 4,
 "nbformat_minor": 5
}
