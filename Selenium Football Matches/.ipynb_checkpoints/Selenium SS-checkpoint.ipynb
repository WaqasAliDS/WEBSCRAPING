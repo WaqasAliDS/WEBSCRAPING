{
 "cells": [
  {
   "cell_type": "code",
   "execution_count": 1,
   "id": "80f8e1c1",
   "metadata": {},
   "outputs": [],
   "source": [
    "from selenium import webdriver\n",
    "from selenium.webdriver.chrome.service import Service\n",
    "from selenium.webdriver.common.by import By\n",
    "from selenium.webdriver.support.ui import WebDriverWait\n",
    "from selenium.webdriver.support import expected_conditions as EC\n",
    "from selenium.webdriver.common.keys import Keys"
   ]
  },
  {
   "cell_type": "code",
   "execution_count": 2,
   "id": "b8a41ecf",
   "metadata": {},
   "outputs": [],
   "source": [
    "path = 'E:/DATA SCIENCE/Webscrapping/chromedriver-win64/chromedriver.exe'"
   ]
  },
  {
   "cell_type": "code",
   "execution_count": 3,
   "id": "a2be911f",
   "metadata": {},
   "outputs": [],
   "source": [
    "s = Service(path)"
   ]
  },
  {
   "cell_type": "code",
   "execution_count": 4,
   "id": "20fa112c",
   "metadata": {},
   "outputs": [],
   "source": [
    "driver = webdriver.Chrome(service = s)"
   ]
  },
  {
   "cell_type": "code",
   "execution_count": 5,
   "id": "b55c96fc",
   "metadata": {},
   "outputs": [],
   "source": [
    "driver.get('https://www.google.com/')"
   ]
  },
  {
   "cell_type": "code",
   "execution_count": 6,
   "id": "c963a519",
   "metadata": {},
   "outputs": [],
   "source": [
    "box = WebDriverWait(driver, 10).until(EC.presence_of_element_located((By.XPATH, '//*[@id=\"APjFqb\"]')))\n",
    "\n",
    "box.send_keys('House of Dragon')"
   ]
  },
  {
   "cell_type": "code",
   "execution_count": 7,
   "id": "b6b651b9",
   "metadata": {},
   "outputs": [],
   "source": [
    "box.send_keys(Keys.ENTER)"
   ]
  },
  {
   "cell_type": "code",
   "execution_count": 8,
   "id": "c213fc6a",
   "metadata": {},
   "outputs": [],
   "source": [
    "element = WebDriverWait(driver, 10).until(EC.presence_of_element_located((By.XPATH, '//*[@id=\"kp-wp-tab-overview\"]/div[6]/div/div/div/div/div/div[1]/div/div/span/a/h3'))\n",
    ")\n",
    "element.click()"
   ]
  },
  {
   "cell_type": "code",
   "execution_count": 9,
   "id": "276a0b50",
   "metadata": {},
   "outputs": [
    {
     "data": {
      "text/plain": [
       "True"
      ]
     },
     "execution_count": 9,
     "metadata": {},
     "output_type": "execute_result"
    }
   ],
   "source": [
    "driver.save_screenshot('E:/DATA SCIENCE/Webscrapping/Amazon.png')"
   ]
  },
  {
   "cell_type": "code",
   "execution_count": null,
   "id": "48f0b66f",
   "metadata": {},
   "outputs": [],
   "source": []
  }
 ],
 "metadata": {
  "kernelspec": {
   "display_name": "Python 3 (ipykernel)",
   "language": "python",
   "name": "python3"
  },
  "language_info": {
   "codemirror_mode": {
    "name": "ipython",
    "version": 3
   },
   "file_extension": ".py",
   "mimetype": "text/x-python",
   "name": "python",
   "nbconvert_exporter": "python",
   "pygments_lexer": "ipython3",
   "version": "3.9.13"
  }
 },
 "nbformat": 4,
 "nbformat_minor": 5
}
