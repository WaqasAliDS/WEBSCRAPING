{
 "cells": [
  {
   "cell_type": "code",
   "execution_count": 1,
   "id": "c8a88876",
   "metadata": {},
   "outputs": [],
   "source": [
    "from selenium import webdriver\n",
    "from selenium.webdriver.chrome.service import Service\n",
    "from selenium.webdriver.common.by import By\n",
    "from selenium.webdriver.support.ui import WebDriverWait\n",
    "from selenium.webdriver.support import expected_conditions as EC"
   ]
  },
  {
   "cell_type": "code",
   "execution_count": 2,
   "id": "157db955",
   "metadata": {},
   "outputs": [],
   "source": [
    "path = 'E:/DATA SCIENCE/Webscrapping/chromedriver-win64/chromedriver.exe'"
   ]
  },
  {
   "cell_type": "code",
   "execution_count": 3,
   "id": "b32a12a6",
   "metadata": {},
   "outputs": [],
   "source": [
    "s = Service(path)\n",
    "browser = webdriver.Chrome(service=s)"
   ]
  },
  {
   "cell_type": "code",
   "execution_count": 4,
   "id": "9acc4adc",
   "metadata": {},
   "outputs": [],
   "source": [
    "browser.get('https://www.urdupoint.com/business/directory.html')"
   ]
  },
  {
   "cell_type": "code",
   "execution_count": 6,
   "id": "fb345fa3",
   "metadata": {},
   "outputs": [],
   "source": [
    "element = WebDriverWait(browser, 10).until(EC.presence_of_element_located((By.XPATH, '//*[@id=\"main_content\"]/div[1]/div[13]/a[1]'))\n",
    ")\n",
    "element.click()"
   ]
  },
  {
   "cell_type": "code",
   "execution_count": 7,
   "id": "8fb096c9",
   "metadata": {},
   "outputs": [],
   "source": [
    "element2 = WebDriverWait(browser, 10).until(EC.presence_of_element_located((By.XPATH, '//*[@id=\"list_items\"]/a[1]'))\n",
    ")\n",
    "element2.click()"
   ]
  },
  {
   "cell_type": "code",
   "execution_count": 8,
   "id": "e49f96ae",
   "metadata": {},
   "outputs": [],
   "source": [
    "element3 = WebDriverWait(browser, 10).until(EC.presence_of_element_located((By.XPATH, '//*[@id=\"list_items\"]/a[2]'))\n",
    ")\n",
    "element3.click()"
   ]
  },
  {
   "cell_type": "code",
   "execution_count": 9,
   "id": "6f0b4c4f",
   "metadata": {},
   "outputs": [],
   "source": [
    "data_tbody = browser.find_element(By.XPATH, '//tbody')"
   ]
  },
  {
   "cell_type": "code",
   "execution_count": 10,
   "id": "d869f97f",
   "metadata": {},
   "outputs": [],
   "source": [
    "business_name = data_tbody.find_element(By.XPATH, './/tr[1]/td').text\n",
    "contact_person = data_tbody.find_element(By.XPATH, './/tr[2]/td').text\n",
    "business_type = data_tbody.find_element(By.XPATH, './/tr[3]/td/a').text\n",
    "mob_number = data_tbody.find_element(By.XPATH, './/tr[4]/td').text\n",
    "email = data_tbody.find_element(By.XPATH, './/tr[5]/td').text\n",
    "website = data_tbody.find_element(By.XPATH, './/tr[6]/td').text\n",
    "city = data_tbody.find_element(By.XPATH, './/tr[7]/td/a').text\n",
    "address = data_tbody.find_element(By.XPATH, './/tr[8]/td').text"
   ]
  },
  {
   "cell_type": "code",
   "execution_count": 11,
   "id": "df82cd49",
   "metadata": {},
   "outputs": [
    {
     "name": "stdout",
     "output_type": "stream",
     "text": [
      "Business Name: Inxights Media\n",
      "Contact Person: Zohaib Ahmad\n",
      "Business Type: Advertisement Agents\n",
      "Mob Number: +92 327 52222 71\n",
      "Email: inxightsmedia@gmail.com\n",
      "Website: https://inxightsmedia.com/\n",
      "City: Lahore\n",
      "Address: M1-93, Eden Towers, Block E1 Block E 1 Gulberg Iii, Lahore, 54660\n"
     ]
    }
   ],
   "source": [
    "print(\"Business Name:\", business_name)\n",
    "print(\"Contact Person:\", contact_person)\n",
    "print(\"Business Type:\", business_type)\n",
    "print(\"Mob Number:\", mob_number)\n",
    "print(\"Email:\", email)\n",
    "print(\"Website:\", website)\n",
    "print(\"City:\", city)\n",
    "print(\"Address:\", address)"
   ]
  },
  {
   "cell_type": "code",
   "execution_count": null,
   "id": "e8f85810",
   "metadata": {},
   "outputs": [],
   "source": []
  }
 ],
 "metadata": {
  "kernelspec": {
   "display_name": "Python 3 (ipykernel)",
   "language": "python",
   "name": "python3"
  },
  "language_info": {
   "codemirror_mode": {
    "name": "ipython",
    "version": 3
   },
   "file_extension": ".py",
   "mimetype": "text/x-python",
   "name": "python",
   "nbconvert_exporter": "python",
   "pygments_lexer": "ipython3",
   "version": "3.9.13"
  }
 },
 "nbformat": 4,
 "nbformat_minor": 5
}
