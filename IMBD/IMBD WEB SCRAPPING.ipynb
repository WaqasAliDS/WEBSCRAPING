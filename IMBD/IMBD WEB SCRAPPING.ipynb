{
 "cells": [
  {
   "cell_type": "code",
   "execution_count": 1,
   "id": "86afde6e",
   "metadata": {},
   "outputs": [],
   "source": [
    "import pandas as pd\n",
    "import re\n",
    "import requests\n",
    "from bs4 import BeautifulSoup\n",
    "import numpy as np\n",
    "import json"
   ]
  },
  {
   "cell_type": "code",
   "execution_count": 2,
   "id": "6600eb92",
   "metadata": {},
   "outputs": [],
   "source": [
    "url = 'https://www.imdb.com/chart/top/'"
   ]
  },
  {
   "cell_type": "code",
   "execution_count": 3,
   "id": "475030de",
   "metadata": {},
   "outputs": [],
   "source": [
    "headers = {\n",
    "    \"User-Agent\": \"Mozilla/5.0 (Windows NT 10.0; Win64; x64) AppleWebKit/537.36 (KHTML, like Gecko) Chrome/58.0.3029.110 Safari/537.36\"\n",
    "}\n",
    "response = requests.get(url, headers=headers)"
   ]
  },
  {
   "cell_type": "code",
   "execution_count": 4,
   "id": "648e76eb",
   "metadata": {},
   "outputs": [
    {
     "name": "stdout",
     "output_type": "stream",
     "text": [
      "Movie list:\n",
      "{'Movie Names': ['1. The Shawshank Redemption', '2. The Godfather', '3. The Dark Knight', '4. The Godfather Part II', '5. 12 Angry Men', \"6. Schindler's List\", '7. The Lord of the Rings: The Return of the King', '8. Pulp Fiction', '9. The Lord of the Rings: The Fellowship of the Ring', '10. Il buono, il brutto, il cattivo', '11. Forrest Gump', '12. Fight Club', '13. The Lord of the Rings: The Two Towers', '14. Inception', '15. Star Wars: Episode V - The Empire Strikes Back', '16. The Matrix', '17. Goodfellas', \"18. One Flew Over the Cuckoo's Nest\", '19. Se7en', \"20. It's a Wonderful Life\", '21. Shichinin no samurai', '22. Spider-Man: Across the Spider-Verse', '23. Interstellar', '24. The Silence of the Lambs', '25. Saving Private Ryan', '26. Cidade de Deus', '27. La vita è bella', '28. The Green Mile', '29. Star Wars', '30. Terminator 2: Judgment Day', '31. Back to the Future', '32. Sen to Chihiro no kamikakushi', '33. The Pianist', '34. Psycho', '35. Gisaengchung', '36. Gladiator', '37. The Lion King', '38. Léon', '39. American History X', '40. The Departed', '41. Whiplash', '42. The Prestige', '43. The Usual Suspects', '44. Hotaru no haka', '45. Seppuku', '46. Casablanca', '47. Oppenheimer', '48. Intouchables', '49. Modern Times', '50. Nuovo Cinema Paradiso', \"51. C'era una volta il West\", '52. Rear Window', '53. Alien', '54. City Lights', '55. Apocalypse Now', '56. Memento', '57. Django Unchained', '58. Raiders of the Lost Ark', '59. WALL·E', '60. Das Leben der Anderen', '61. Sunset Blvd.', '62. Paths of Glory', '63. Avengers: Infinity War', '64. The Shining', '65. The Great Dictator', '66. Witness for the Prosecution', '67. Spider-Man: Into the Spider-Verse', '68. Alien 2', '69. Inglourious Basterds', '70. The Dark Knight Rises', '71. American Beauty', '72. Dr. Strangelove or: How I Learned to Stop Worrying and Love the Bomb', '73. Oldeuboi', '74. Coco', '75. Amadeus', '76. Toy Story', '77. Das Boot', '78. Braveheart', '79. Avengers: Endgame', '80. Joker', '81. Mononoke-hime', '82. Good Will Hunting', '83. Kimi no na wa.', '84. Once Upon a Time in America', '85. 3 Idiots', '86. Tengoku to jigoku', \"87. Singin' in the Rain\", '88. Capharnaüm', '89. Requiem for a Dream', '90. Toy Story 3', '91. Idi i smotri', '92. Star Wars: Episode VI - Return of the Jedi', '93. Eternal Sunshine of the Spotless Mind', '94. 2001: A Space Odyssey', '95. Jagten', '96. Reservoir Dogs', '97. Ikiru', '98. Lawrence of Arabia', '99. Citizen Kane', '100. M - Eine Stadt sucht einen Mörder', '101. The Apartment', '102. North by Northwest', '103. Vertigo', '104. Double Indemnity', \"105. Le fabuleux destin d'Amélie Poulain\", '106. Scarface', '107. Full Metal Jacket', '108. A Clockwork Orange', '109. Incendies', '110. Heat', '111. Up', '112. Hamilton', '113. To Kill a Mockingbird', '114. The Sting', '115. Jodaeiye Nader az Simin', '116. Indiana Jones and the Last Crusade', '117. Metropolis', '118. Die Hard', '119. Taare Zameen Par', '120. Snatch', '121. Ladri di biciclette', '122. L.A. Confidential', '123. Taxi Driver', '124. 1917', '125. Der Untergang', '126. Dangal', '127. Per qualche dollaro in più', '128. Batman Begins', '129. Top Gun: Maverick', '130. Some Like It Hot', '131. The Kid', '132. The Wolf of Wall Street', '133. The Father', '134. Green Book', '135. All About Eve', '136. Judgment at Nuremberg', '137. The Truman Show', '138. There Will Be Blood', '139. Casino', '140. Ran', '141. Shutter Island', '142. El laberinto del fauno', '143. The Sixth Sense', '144. Jurassic Park', '145. Unforgiven', '146. A Beautiful Mind', '147. The Treasure of the Sierra Madre', '148. Yôjinbô', '149. No Country for Old Men', '150. Kill Bill: Vol. 1', '151. Monty Python and the Holy Grail', '152. The Thing', '153. The Great Escape', '154. Rashômon', '155. Finding Nemo', '156. The Elephant Man', '157. Chinatown', '158. Hauru no ugoku shiro', '159. Dial M for Murder', '160. Gone with the Wind', '161. V for Vendetta', '162. Raging Bull', '163. Lock, Stock and Two Smoking Barrels', '164. Prisoners', '165. El secreto de sus ojos', '166. Spider-Man: No Way Home', '167. Inside Out', '168. Three Billboards Outside Ebbing, Missouri', '169. The Bridge on the River Kwai', '170. Trainspotting', '171. Fargo', '172. Warrior', '173. Gran Torino', '174. Catch Me If You Can', '175. Tonari no Totoro', '176. Million Dollar Baby', '177. Klaus', '178. Harry Potter and the Deathly Hallows - Part 2', '179. Bacheha-Ye aseman', '180. Blade Runner', '181. 12 Years a Slave', '182. Before Sunrise', '183. The Grand Budapest Hotel', '184. The Gold Rush', '185. Ben-Hur', '186. Gone Girl', '187. Barry Lyndon', '188. On the Waterfront', '189. Hacksaw Ridge', '190. In the Name of the Father', '191. Salinui chueok', '192. The General', '193. The Deer Hunter', '194. Smultronstället', '195. The Third Man', '196. Relatos salvajes', '197. Le salaire de la peur', '198. Sherlock Jr.', '199. Dead Poets Society', '200. Mad Max: Fury Road', '201. Mr. Smith Goes to Washington', '202. Monsters, Inc.', '203. Jaws', '204. How to Train Your Dragon', '205. Mary and Max.', '206. Det sjunde inseglet', '207. Ford v Ferrari', '208. Room', '209. The Big Lebowski', '210. Tôkyô monogatari', '211. Ratatouille', '212. Rocky', '213. Hotel Rwanda', '214. Logan', \"215. La passion de Jeanne d'Arc\", '216. Spotlight', '217. Platoon', '218. The Terminator', '219. Jai Bhim', '220. Before Sunset', '221. Rush', '222. Network', '223. Stand by Me', '224. The Best Years of Our Lives', '225. The Exorcist', '226. La haine', '227. The Wizard of Oz', '228. Pirates of the Caribbean: The Curse of the Black Pearl', '229. Into the Wild', '230. The Incredibles', '231. To Be or Not to Be', '232. Babam ve Oglum', \"233. Hachi: A Dog's Tale\", '234. Ah-ga-ssi', '235. The Grapes of Wrath', '236. Groundhog Day', '237. La battaglia di Algeri', '238. Amores perros', '239. Rebecca', '240. The Sound of Music', '241. Cool Hand Luke', '242. Pather Panchali', '243. The Iron Giant', '244. It Happened One Night', '245. The Help', '246. Les quatre cents coups', '247. Persona', '248. Life of Brian', '249. Aladdin', '250. Drishyam'], 'Release Years': ['1994', '2h 22m', 'R', '1972', '2h 55m', 'R', '2008', '2h 32m', 'PG-13', '1974', '3h 22m', 'R', '1957', '1h 36m', 'Approved', '1993', '3h 15m', 'R', '2003', '3h 21m', 'PG-13', '1994', '2h 34m', 'R', '2001', '2h 58m', 'PG-13', '1966', '2h 41m', 'Approved', '1994', '2h 22m', 'PG-13', '1999', '2h 19m', 'R', '2002', '2h 59m', 'PG-13', '2010', '2h 28m', 'PG-13', '1980', '2h 4m', 'PG', '1999', '2h 16m', 'R', '1990', '2h 25m', 'R', '1975', '2h 13m', 'R', '1995', '2h 7m', 'R', '1946', '2h 10m', 'PG', '1954', '3h 27m', 'Not Rated', '2023', '2h 20m', 'PG', '2014', '2h 49m', 'PG-13', '1991', '1h 58m', 'R', '1998', '2h 49m', 'R', '2002', '2h 10m', 'R', '1997', '1h 56m', 'PG-13', '1999', '3h 9m', 'R', '1977', '2h 1m', 'PG', '1991', '2h 17m', 'R', '1985', '1h 56m', 'PG', '2001', '2h 5m', 'PG', '2002', '2h 30m', 'R', '1960', '1h 49m', 'R', '2019', '2h 12m', 'R', '2000', '2h 35m', 'R', '1994', '1h 28m', 'G', '1994', '1h 50m', 'R', '1998', '1h 59m', 'R', '2006', '2h 31m', 'R', '2014', '1h 46m', 'R', '2006', '2h 10m', 'PG-13', '1995', '1h 46m', 'R', '1988', '1h 29m', 'Not Rated', '1962', '2h 13m', 'Not Rated', '1942', '1h 42m', 'PG', '2023', '3h', 'R', '2011', '1h 52m', 'R', '1936', '1h 27m', 'G', '1988', '2h 35m', 'PG', '1968', '2h 45m', 'PG-13', '1954', '1h 52m', 'PG', '1979', '1h 57m', 'R', '1931', '1h 27m', 'G', '1979', '2h 27m', 'R', '2000', '1h 53m', 'R', '2012', '2h 45m', 'R', '1981', '1h 55m', 'PG', '2008', '1h 38m', 'G', '2006', '2h 17m', 'R', '1950', '1h 50m', 'Passed', '1957', '1h 28m', 'Approved', '2018', '2h 29m', 'PG-13', '1980', '2h 26m', 'R', '1940', '2h 5m', 'G', '1957', '1h 56m', 'Approved', '2018', '1h 57m', 'PG', '1986', '2h 17m', 'R', '2009', '2h 33m', 'R', '2012', '2h 44m', 'PG-13', '1999', '2h 2m', 'R', '1964', '1h 35m', 'PG', '2003', '2h', 'R', '2017', '1h 45m', 'PG', '1984', '2h 40m', 'PG', '1995', '1h 21m', 'G', '1981', '2h 29m', '1995', '2h 58m', 'R', '2019', '3h 1m', 'PG-13', '2019', '2h 2m', 'R', '1997', '2h 14m', 'PG-13', '1997', '2h 6m', 'R', '2016', '1h 46m', 'TV-PG', '1984', '3h 49m', 'R', '2009', '2h 50m', 'PG-13', '1963', '2h 23m', 'Not Rated', '1952', '1h 43m', 'G', '2018', '2h 6m', 'R', '2000', '1h 42m', 'Unrated', '2010', '1h 43m', 'G', '1985', '2h 22m', 'Not Rated', '1983', '2h 11m', 'PG', '2004', '1h 48m', 'R', '1968', '2h 29m', 'G', '2012', '1h 55m', 'R', '1992', '1h 39m', 'R', '1952', '2h 23m', 'Not Rated', '1962', '3h 38m', 'Approved', '1941', '1h 59m', 'PG', '1931', '1h 57m', 'Passed', '1960', '2h 5m', 'Approved', '1959', '2h 16m', 'Approved', '1958', '2h 8m', 'PG', '1944', '1h 47m', 'Passed', '2001', '2h 2m', 'R', '1983', '2h 50m', '18+', '1987', '1h 56m', 'R', '1971', '2h 16m', 'X', '2010', '2h 11m', 'R', '1995', '2h 50m', 'R', '2009', '1h 36m', 'PG', '2020', '2h 40m', 'PG-13', '1962', '2h 9m', 'Approved', '1973', '2h 9m', 'PG', '2011', '2h 3m', 'PG-13', '1989', '2h 7m', 'PG-13', '1927', '2h 33m', 'Not Rated', '1988', '2h 12m', 'R', '2007', '2h 42m', 'PG', '2000', '1h 44m', 'R', '1948', '1h 29m', 'Not Rated', '1997', '2h 18m', 'R', '1976', '1h 54m', 'R', '2019', '1h 59m', 'R', '2004', '2h 36m', 'R', '2016', '2h 41m', 'Not Rated', '1965', '2h 12m', 'R', '2005', '2h 20m', 'PG-13', '2022', '2h 10m', 'PG-13', '1959', '2h 1m', 'Passed', '1921', '1h 8m', 'Passed', '2013', '3h', 'R', '2020', '1h 37m', 'PG-13', '2018', '2h 10m', 'PG-13', '1950', '2h 18m', 'Passed', '1961', '2h 59m', 'Approved', '1998', '1h 43m', 'PG', '2007', '2h 38m', 'R', '1995', '2h 58m', 'R', '1985', '2h 40m', 'R', '2010', '2h 18m', 'R', '2006', '1h 58m', 'R', '1999', '1h 47m', 'PG-13', '1993', '2h 7m', 'PG-13', '1992', '2h 10m', 'R', '2001', '2h 15m', 'PG-13', '1948', '2h 6m', 'Passed', '1961', '1h 50m', 'Not Rated', '2007', '2h 2m', 'R', '2003', '1h 51m', 'R', '1975', '1h 31m', 'PG', '1982', '1h 49m', 'R', '1963', '2h 52m', 'Approved', '1950', '1h 28m', 'Not Rated', '2003', '1h 40m', 'G', '1980', '2h 4m', 'PG', '1974', '2h 10m', 'R', '2004', '1h 59m', 'PG', '1954', '1h 45m', 'PG', '1939', '3h 58m', 'Passed', '2005', '2h 12m', 'R', '1980', '2h 9m', 'R', '1998', '1h 47m', 'R', '2013', '2h 33m', 'R', '2009', '2h 9m', 'R', '2021', '2h 28m', 'PG-13', '2015', '1h 35m', 'PG', '2017', '1h 55m', 'R', '1957', '2h 41m', 'PG', '1996', '1h 33m', 'R', '1996', '1h 38m', 'R', '2011', '2h 20m', 'PG-13', '2008', '1h 56m', 'R', '2002', '2h 21m', 'PG-13', '1988', '1h 26m', 'G', '2004', '2h 12m', 'PG-13', '2019', '1h 36m', 'PG', '2011', '2h 10m', 'PG-13', '1997', '1h 29m', 'PG', '1982', '1h 57m', 'R', '2013', '2h 14m', 'R', '1995', '1h 41m', 'R', '2014', '1h 39m', 'R', '1925', '1h 35m', 'Passed', '1959', '3h 32m', 'G', '2014', '2h 29m', 'R', '1975', '3h 5m', 'PG', '1954', '1h 48m', 'Approved', '2016', '2h 19m', 'R', '1993', '2h 13m', 'R', '2003', '2h 11m', 'Not Rated', '1926', '1h 18m', 'Passed', '1978', '3h 3m', 'R', '1957', '1h 31m', 'Not Rated', '1949', '1h 44m', 'Approved', '2014', '2h 2m', 'R', '1953', '2h 11m', 'Not Rated', '1924', '45m', 'Passed', '1989', '2h 8m', 'PG', '2015', '2h', 'R', '1939', '2h 9m', 'Passed', '2001', '1h 32m', 'G', '1975', '2h 4m', 'PG', '2010', '1h 38m', 'PG', '2009', '1h 32m', 'Not Rated', '1957', '1h 36m', 'Not Rated', '2019', '2h 32m', 'PG-13', '2015', '1h 58m', 'R', '1998', '1h 57m', 'R', '1953', '2h 16m', 'Not Rated', '2007', '1h 51m', 'G', '1976', '2h', 'PG', '2004', '2h 1m', 'PG-13', '2017', '2h 17m', 'R', '1928', '1h 50m', 'Passed', '2015', '2h 9m', 'R', '1986', '2h', 'R', '1984', '1h 47m', 'R', '2021', '2h 44m', 'TV-MA', '2004', '1h 20m', 'R', '2013', '2h 3m', 'R', '1976', '2h 1m', 'R', '1986', '1h 29m', 'R', '1946', '2h 50m', 'Approved', '1973', '2h 2m', 'R', '1995', '1h 38m', 'Not Rated', '1939', '1h 42m', 'G', '2003', '2h 23m', 'PG-13', '2007', '2h 28m', 'R', '2004', '1h 55m', 'PG', '1942', '1h 39m', 'Passed', '2005', '1h 52m', 'Not Rated', '2009', '1h 33m', 'G', '2016', '2h 25m', 'Not Rated', '1940', '2h 9m', 'Passed', '1993', '1h 41m', 'PG', '1966', '2h 1m', 'Not Rated', '2000', '2h 34m', 'R', '1940', '2h 10m', 'Approved', '1965', '2h 52m', 'G', '1967', '2h 7m', 'GP', '1955', '2h 5m', 'Not Rated', '1999', '1h 26m', 'PG', '1934', '1h 45m', 'Passed', '2011', '2h 26m', 'PG-13', '1959', '1h 39m', 'Not Rated', '1966', '1h 25m', 'Not Rated', '1979', '1h 34m', 'R', '1992', '1h 30m', 'G', '2015', '2h 43m', 'Not Rated']}\n"
     ]
    }
   ],
   "source": [
    "if response.status_code == 200:\n",
    "    soup = BeautifulSoup(response.text, \"html.parser\")\n",
    "\n",
    "    movie_list = soup.find(\"ul\", class_=\"ipc-metadata-list\")\n",
    "\n",
    "    if movie_list:\n",
    "        movie_list_dict = {}  \n",
    "\n",
    "        movie_names = []\n",
    "        movie_years = []\n",
    "\n",
    "        for movie in movie_list.find_all(\"h3\", class_=\"ipc-title__text\"):\n",
    "            movie_name = movie.text.strip()\n",
    "            movie_names.append(movie_name)\n",
    "\n",
    "        for movie in movie_list.find_all(\"span\", class_=\"sc-c7e5f54-8 hgjcbi cli-title-metadata-item\"):\n",
    "            movie_year = movie.text.strip()\n",
    "            movie_years.append(movie_year)\n",
    "\n",
    "        movie_list_dict[\"Movie Names\"] = movie_names\n",
    "        movie_list_dict[\"Release Years\"] = movie_years\n",
    "\n",
    "        print(\"Movie list:\")\n",
    "        print(movie_list_dict)\n",
    "    else:\n",
    "        print(\"Movie list not found on the page. Website structure may have changed.\")\n",
    "else:\n",
    "    print(\"Failed to retrieve the webpage.\")\n"
   ]
  },
  {
   "cell_type": "code",
   "execution_count": 5,
   "id": "aa66139a",
   "metadata": {},
   "outputs": [],
   "source": [
    "movies_list = []\n",
    "\n",
    "for movie_name in movie_list_dict['Movie Names']:\n",
    "    rank, movie_title = movie_name.split('. ', 1)\n",
    "    movie_data = {'rank': rank, 'movie_title': movie_title}\n",
    "    movies_list.append(movie_data)"
   ]
  },
  {
   "cell_type": "code",
   "execution_count": 6,
   "id": "a6145839",
   "metadata": {},
   "outputs": [
    {
     "name": "stdout",
     "output_type": "stream",
     "text": [
      "Movie data has been saved to 'movie_data.json'\n"
     ]
    }
   ],
   "source": [
    "with open('movie_data.json', 'w') as json_file:\n",
    "    json.dump(movies_list, json_file)\n",
    "\n",
    "print(\"Movie data has been saved to 'movie_data.json'\")"
   ]
  },
  {
   "cell_type": "code",
   "execution_count": 7,
   "id": "4006beb0",
   "metadata": {},
   "outputs": [],
   "source": [
    "with open('movie_data.json', 'r') as json_file:\n",
    "    movie_data = json.load(json_file)"
   ]
  },
  {
   "cell_type": "code",
   "execution_count": 8,
   "id": "f83de1a4",
   "metadata": {},
   "outputs": [],
   "source": [
    "formatted_movie_data = [{'Rank': movie['rank'], 'Movie Title': movie['movie_title']} for movie in movie_data]"
   ]
  },
  {
   "cell_type": "code",
   "execution_count": 9,
   "id": "2bcf929d",
   "metadata": {},
   "outputs": [
    {
     "data": {
      "text/plain": [
       "[{'Rank': '1', 'Movie Title': 'The Shawshank Redemption'},\n",
       " {'Rank': '2', 'Movie Title': 'The Godfather'},\n",
       " {'Rank': '3', 'Movie Title': 'The Dark Knight'},\n",
       " {'Rank': '4', 'Movie Title': 'The Godfather Part II'},\n",
       " {'Rank': '5', 'Movie Title': '12 Angry Men'},\n",
       " {'Rank': '6', 'Movie Title': \"Schindler's List\"},\n",
       " {'Rank': '7', 'Movie Title': 'The Lord of the Rings: The Return of the King'},\n",
       " {'Rank': '8', 'Movie Title': 'Pulp Fiction'},\n",
       " {'Rank': '9',\n",
       "  'Movie Title': 'The Lord of the Rings: The Fellowship of the Ring'},\n",
       " {'Rank': '10', 'Movie Title': 'Il buono, il brutto, il cattivo'},\n",
       " {'Rank': '11', 'Movie Title': 'Forrest Gump'},\n",
       " {'Rank': '12', 'Movie Title': 'Fight Club'},\n",
       " {'Rank': '13', 'Movie Title': 'The Lord of the Rings: The Two Towers'},\n",
       " {'Rank': '14', 'Movie Title': 'Inception'},\n",
       " {'Rank': '15',\n",
       "  'Movie Title': 'Star Wars: Episode V - The Empire Strikes Back'},\n",
       " {'Rank': '16', 'Movie Title': 'The Matrix'},\n",
       " {'Rank': '17', 'Movie Title': 'Goodfellas'},\n",
       " {'Rank': '18', 'Movie Title': \"One Flew Over the Cuckoo's Nest\"},\n",
       " {'Rank': '19', 'Movie Title': 'Se7en'},\n",
       " {'Rank': '20', 'Movie Title': \"It's a Wonderful Life\"},\n",
       " {'Rank': '21', 'Movie Title': 'Shichinin no samurai'},\n",
       " {'Rank': '22', 'Movie Title': 'Spider-Man: Across the Spider-Verse'},\n",
       " {'Rank': '23', 'Movie Title': 'Interstellar'},\n",
       " {'Rank': '24', 'Movie Title': 'The Silence of the Lambs'},\n",
       " {'Rank': '25', 'Movie Title': 'Saving Private Ryan'},\n",
       " {'Rank': '26', 'Movie Title': 'Cidade de Deus'},\n",
       " {'Rank': '27', 'Movie Title': 'La vita è bella'},\n",
       " {'Rank': '28', 'Movie Title': 'The Green Mile'},\n",
       " {'Rank': '29', 'Movie Title': 'Star Wars'},\n",
       " {'Rank': '30', 'Movie Title': 'Terminator 2: Judgment Day'},\n",
       " {'Rank': '31', 'Movie Title': 'Back to the Future'},\n",
       " {'Rank': '32', 'Movie Title': 'Sen to Chihiro no kamikakushi'},\n",
       " {'Rank': '33', 'Movie Title': 'The Pianist'},\n",
       " {'Rank': '34', 'Movie Title': 'Psycho'},\n",
       " {'Rank': '35', 'Movie Title': 'Gisaengchung'},\n",
       " {'Rank': '36', 'Movie Title': 'Gladiator'},\n",
       " {'Rank': '37', 'Movie Title': 'The Lion King'},\n",
       " {'Rank': '38', 'Movie Title': 'Léon'},\n",
       " {'Rank': '39', 'Movie Title': 'American History X'},\n",
       " {'Rank': '40', 'Movie Title': 'The Departed'},\n",
       " {'Rank': '41', 'Movie Title': 'Whiplash'},\n",
       " {'Rank': '42', 'Movie Title': 'The Prestige'},\n",
       " {'Rank': '43', 'Movie Title': 'The Usual Suspects'},\n",
       " {'Rank': '44', 'Movie Title': 'Hotaru no haka'},\n",
       " {'Rank': '45', 'Movie Title': 'Seppuku'},\n",
       " {'Rank': '46', 'Movie Title': 'Casablanca'},\n",
       " {'Rank': '47', 'Movie Title': 'Oppenheimer'},\n",
       " {'Rank': '48', 'Movie Title': 'Intouchables'},\n",
       " {'Rank': '49', 'Movie Title': 'Modern Times'},\n",
       " {'Rank': '50', 'Movie Title': 'Nuovo Cinema Paradiso'},\n",
       " {'Rank': '51', 'Movie Title': \"C'era una volta il West\"},\n",
       " {'Rank': '52', 'Movie Title': 'Rear Window'},\n",
       " {'Rank': '53', 'Movie Title': 'Alien'},\n",
       " {'Rank': '54', 'Movie Title': 'City Lights'},\n",
       " {'Rank': '55', 'Movie Title': 'Apocalypse Now'},\n",
       " {'Rank': '56', 'Movie Title': 'Memento'},\n",
       " {'Rank': '57', 'Movie Title': 'Django Unchained'},\n",
       " {'Rank': '58', 'Movie Title': 'Raiders of the Lost Ark'},\n",
       " {'Rank': '59', 'Movie Title': 'WALL·E'},\n",
       " {'Rank': '60', 'Movie Title': 'Das Leben der Anderen'},\n",
       " {'Rank': '61', 'Movie Title': 'Sunset Blvd.'},\n",
       " {'Rank': '62', 'Movie Title': 'Paths of Glory'},\n",
       " {'Rank': '63', 'Movie Title': 'Avengers: Infinity War'},\n",
       " {'Rank': '64', 'Movie Title': 'The Shining'},\n",
       " {'Rank': '65', 'Movie Title': 'The Great Dictator'},\n",
       " {'Rank': '66', 'Movie Title': 'Witness for the Prosecution'},\n",
       " {'Rank': '67', 'Movie Title': 'Spider-Man: Into the Spider-Verse'},\n",
       " {'Rank': '68', 'Movie Title': 'Alien 2'},\n",
       " {'Rank': '69', 'Movie Title': 'Inglourious Basterds'},\n",
       " {'Rank': '70', 'Movie Title': 'The Dark Knight Rises'},\n",
       " {'Rank': '71', 'Movie Title': 'American Beauty'},\n",
       " {'Rank': '72',\n",
       "  'Movie Title': 'Dr. Strangelove or: How I Learned to Stop Worrying and Love the Bomb'},\n",
       " {'Rank': '73', 'Movie Title': 'Oldeuboi'},\n",
       " {'Rank': '74', 'Movie Title': 'Coco'},\n",
       " {'Rank': '75', 'Movie Title': 'Amadeus'},\n",
       " {'Rank': '76', 'Movie Title': 'Toy Story'},\n",
       " {'Rank': '77', 'Movie Title': 'Das Boot'},\n",
       " {'Rank': '78', 'Movie Title': 'Braveheart'},\n",
       " {'Rank': '79', 'Movie Title': 'Avengers: Endgame'},\n",
       " {'Rank': '80', 'Movie Title': 'Joker'},\n",
       " {'Rank': '81', 'Movie Title': 'Mononoke-hime'},\n",
       " {'Rank': '82', 'Movie Title': 'Good Will Hunting'},\n",
       " {'Rank': '83', 'Movie Title': 'Kimi no na wa.'},\n",
       " {'Rank': '84', 'Movie Title': 'Once Upon a Time in America'},\n",
       " {'Rank': '85', 'Movie Title': '3 Idiots'},\n",
       " {'Rank': '86', 'Movie Title': 'Tengoku to jigoku'},\n",
       " {'Rank': '87', 'Movie Title': \"Singin' in the Rain\"},\n",
       " {'Rank': '88', 'Movie Title': 'Capharnaüm'},\n",
       " {'Rank': '89', 'Movie Title': 'Requiem for a Dream'},\n",
       " {'Rank': '90', 'Movie Title': 'Toy Story 3'},\n",
       " {'Rank': '91', 'Movie Title': 'Idi i smotri'},\n",
       " {'Rank': '92', 'Movie Title': 'Star Wars: Episode VI - Return of the Jedi'},\n",
       " {'Rank': '93', 'Movie Title': 'Eternal Sunshine of the Spotless Mind'},\n",
       " {'Rank': '94', 'Movie Title': '2001: A Space Odyssey'},\n",
       " {'Rank': '95', 'Movie Title': 'Jagten'},\n",
       " {'Rank': '96', 'Movie Title': 'Reservoir Dogs'},\n",
       " {'Rank': '97', 'Movie Title': 'Ikiru'},\n",
       " {'Rank': '98', 'Movie Title': 'Lawrence of Arabia'},\n",
       " {'Rank': '99', 'Movie Title': 'Citizen Kane'},\n",
       " {'Rank': '100', 'Movie Title': 'M - Eine Stadt sucht einen Mörder'},\n",
       " {'Rank': '101', 'Movie Title': 'The Apartment'},\n",
       " {'Rank': '102', 'Movie Title': 'North by Northwest'},\n",
       " {'Rank': '103', 'Movie Title': 'Vertigo'},\n",
       " {'Rank': '104', 'Movie Title': 'Double Indemnity'},\n",
       " {'Rank': '105', 'Movie Title': \"Le fabuleux destin d'Amélie Poulain\"},\n",
       " {'Rank': '106', 'Movie Title': 'Scarface'},\n",
       " {'Rank': '107', 'Movie Title': 'Full Metal Jacket'},\n",
       " {'Rank': '108', 'Movie Title': 'A Clockwork Orange'},\n",
       " {'Rank': '109', 'Movie Title': 'Incendies'},\n",
       " {'Rank': '110', 'Movie Title': 'Heat'},\n",
       " {'Rank': '111', 'Movie Title': 'Up'},\n",
       " {'Rank': '112', 'Movie Title': 'Hamilton'},\n",
       " {'Rank': '113', 'Movie Title': 'To Kill a Mockingbird'},\n",
       " {'Rank': '114', 'Movie Title': 'The Sting'},\n",
       " {'Rank': '115', 'Movie Title': 'Jodaeiye Nader az Simin'},\n",
       " {'Rank': '116', 'Movie Title': 'Indiana Jones and the Last Crusade'},\n",
       " {'Rank': '117', 'Movie Title': 'Metropolis'},\n",
       " {'Rank': '118', 'Movie Title': 'Die Hard'},\n",
       " {'Rank': '119', 'Movie Title': 'Taare Zameen Par'},\n",
       " {'Rank': '120', 'Movie Title': 'Snatch'},\n",
       " {'Rank': '121', 'Movie Title': 'Ladri di biciclette'},\n",
       " {'Rank': '122', 'Movie Title': 'L.A. Confidential'},\n",
       " {'Rank': '123', 'Movie Title': 'Taxi Driver'},\n",
       " {'Rank': '124', 'Movie Title': '1917'},\n",
       " {'Rank': '125', 'Movie Title': 'Der Untergang'},\n",
       " {'Rank': '126', 'Movie Title': 'Dangal'},\n",
       " {'Rank': '127', 'Movie Title': 'Per qualche dollaro in più'},\n",
       " {'Rank': '128', 'Movie Title': 'Batman Begins'},\n",
       " {'Rank': '129', 'Movie Title': 'Top Gun: Maverick'},\n",
       " {'Rank': '130', 'Movie Title': 'Some Like It Hot'},\n",
       " {'Rank': '131', 'Movie Title': 'The Kid'},\n",
       " {'Rank': '132', 'Movie Title': 'The Wolf of Wall Street'},\n",
       " {'Rank': '133', 'Movie Title': 'The Father'},\n",
       " {'Rank': '134', 'Movie Title': 'Green Book'},\n",
       " {'Rank': '135', 'Movie Title': 'All About Eve'},\n",
       " {'Rank': '136', 'Movie Title': 'Judgment at Nuremberg'},\n",
       " {'Rank': '137', 'Movie Title': 'The Truman Show'},\n",
       " {'Rank': '138', 'Movie Title': 'There Will Be Blood'},\n",
       " {'Rank': '139', 'Movie Title': 'Casino'},\n",
       " {'Rank': '140', 'Movie Title': 'Ran'},\n",
       " {'Rank': '141', 'Movie Title': 'Shutter Island'},\n",
       " {'Rank': '142', 'Movie Title': 'El laberinto del fauno'},\n",
       " {'Rank': '143', 'Movie Title': 'The Sixth Sense'},\n",
       " {'Rank': '144', 'Movie Title': 'Jurassic Park'},\n",
       " {'Rank': '145', 'Movie Title': 'Unforgiven'},\n",
       " {'Rank': '146', 'Movie Title': 'A Beautiful Mind'},\n",
       " {'Rank': '147', 'Movie Title': 'The Treasure of the Sierra Madre'},\n",
       " {'Rank': '148', 'Movie Title': 'Yôjinbô'},\n",
       " {'Rank': '149', 'Movie Title': 'No Country for Old Men'},\n",
       " {'Rank': '150', 'Movie Title': 'Kill Bill: Vol. 1'},\n",
       " {'Rank': '151', 'Movie Title': 'Monty Python and the Holy Grail'},\n",
       " {'Rank': '152', 'Movie Title': 'The Thing'},\n",
       " {'Rank': '153', 'Movie Title': 'The Great Escape'},\n",
       " {'Rank': '154', 'Movie Title': 'Rashômon'},\n",
       " {'Rank': '155', 'Movie Title': 'Finding Nemo'},\n",
       " {'Rank': '156', 'Movie Title': 'The Elephant Man'},\n",
       " {'Rank': '157', 'Movie Title': 'Chinatown'},\n",
       " {'Rank': '158', 'Movie Title': 'Hauru no ugoku shiro'},\n",
       " {'Rank': '159', 'Movie Title': 'Dial M for Murder'},\n",
       " {'Rank': '160', 'Movie Title': 'Gone with the Wind'},\n",
       " {'Rank': '161', 'Movie Title': 'V for Vendetta'},\n",
       " {'Rank': '162', 'Movie Title': 'Raging Bull'},\n",
       " {'Rank': '163', 'Movie Title': 'Lock, Stock and Two Smoking Barrels'},\n",
       " {'Rank': '164', 'Movie Title': 'Prisoners'},\n",
       " {'Rank': '165', 'Movie Title': 'El secreto de sus ojos'},\n",
       " {'Rank': '166', 'Movie Title': 'Spider-Man: No Way Home'},\n",
       " {'Rank': '167', 'Movie Title': 'Inside Out'},\n",
       " {'Rank': '168', 'Movie Title': 'Three Billboards Outside Ebbing, Missouri'},\n",
       " {'Rank': '169', 'Movie Title': 'The Bridge on the River Kwai'},\n",
       " {'Rank': '170', 'Movie Title': 'Trainspotting'},\n",
       " {'Rank': '171', 'Movie Title': 'Fargo'},\n",
       " {'Rank': '172', 'Movie Title': 'Warrior'},\n",
       " {'Rank': '173', 'Movie Title': 'Gran Torino'},\n",
       " {'Rank': '174', 'Movie Title': 'Catch Me If You Can'},\n",
       " {'Rank': '175', 'Movie Title': 'Tonari no Totoro'},\n",
       " {'Rank': '176', 'Movie Title': 'Million Dollar Baby'},\n",
       " {'Rank': '177', 'Movie Title': 'Klaus'},\n",
       " {'Rank': '178',\n",
       "  'Movie Title': 'Harry Potter and the Deathly Hallows - Part 2'},\n",
       " {'Rank': '179', 'Movie Title': 'Bacheha-Ye aseman'},\n",
       " {'Rank': '180', 'Movie Title': 'Blade Runner'},\n",
       " {'Rank': '181', 'Movie Title': '12 Years a Slave'},\n",
       " {'Rank': '182', 'Movie Title': 'Before Sunrise'},\n",
       " {'Rank': '183', 'Movie Title': 'The Grand Budapest Hotel'},\n",
       " {'Rank': '184', 'Movie Title': 'The Gold Rush'},\n",
       " {'Rank': '185', 'Movie Title': 'Ben-Hur'},\n",
       " {'Rank': '186', 'Movie Title': 'Gone Girl'},\n",
       " {'Rank': '187', 'Movie Title': 'Barry Lyndon'},\n",
       " {'Rank': '188', 'Movie Title': 'On the Waterfront'},\n",
       " {'Rank': '189', 'Movie Title': 'Hacksaw Ridge'},\n",
       " {'Rank': '190', 'Movie Title': 'In the Name of the Father'},\n",
       " {'Rank': '191', 'Movie Title': 'Salinui chueok'},\n",
       " {'Rank': '192', 'Movie Title': 'The General'},\n",
       " {'Rank': '193', 'Movie Title': 'The Deer Hunter'},\n",
       " {'Rank': '194', 'Movie Title': 'Smultronstället'},\n",
       " {'Rank': '195', 'Movie Title': 'The Third Man'},\n",
       " {'Rank': '196', 'Movie Title': 'Relatos salvajes'},\n",
       " {'Rank': '197', 'Movie Title': 'Le salaire de la peur'},\n",
       " {'Rank': '198', 'Movie Title': 'Sherlock Jr.'},\n",
       " {'Rank': '199', 'Movie Title': 'Dead Poets Society'},\n",
       " {'Rank': '200', 'Movie Title': 'Mad Max: Fury Road'},\n",
       " {'Rank': '201', 'Movie Title': 'Mr. Smith Goes to Washington'},\n",
       " {'Rank': '202', 'Movie Title': 'Monsters, Inc.'},\n",
       " {'Rank': '203', 'Movie Title': 'Jaws'},\n",
       " {'Rank': '204', 'Movie Title': 'How to Train Your Dragon'},\n",
       " {'Rank': '205', 'Movie Title': 'Mary and Max.'},\n",
       " {'Rank': '206', 'Movie Title': 'Det sjunde inseglet'},\n",
       " {'Rank': '207', 'Movie Title': 'Ford v Ferrari'},\n",
       " {'Rank': '208', 'Movie Title': 'Room'},\n",
       " {'Rank': '209', 'Movie Title': 'The Big Lebowski'},\n",
       " {'Rank': '210', 'Movie Title': 'Tôkyô monogatari'},\n",
       " {'Rank': '211', 'Movie Title': 'Ratatouille'},\n",
       " {'Rank': '212', 'Movie Title': 'Rocky'},\n",
       " {'Rank': '213', 'Movie Title': 'Hotel Rwanda'},\n",
       " {'Rank': '214', 'Movie Title': 'Logan'},\n",
       " {'Rank': '215', 'Movie Title': \"La passion de Jeanne d'Arc\"},\n",
       " {'Rank': '216', 'Movie Title': 'Spotlight'},\n",
       " {'Rank': '217', 'Movie Title': 'Platoon'},\n",
       " {'Rank': '218', 'Movie Title': 'The Terminator'},\n",
       " {'Rank': '219', 'Movie Title': 'Jai Bhim'},\n",
       " {'Rank': '220', 'Movie Title': 'Before Sunset'},\n",
       " {'Rank': '221', 'Movie Title': 'Rush'},\n",
       " {'Rank': '222', 'Movie Title': 'Network'},\n",
       " {'Rank': '223', 'Movie Title': 'Stand by Me'},\n",
       " {'Rank': '224', 'Movie Title': 'The Best Years of Our Lives'},\n",
       " {'Rank': '225', 'Movie Title': 'The Exorcist'},\n",
       " {'Rank': '226', 'Movie Title': 'La haine'},\n",
       " {'Rank': '227', 'Movie Title': 'The Wizard of Oz'},\n",
       " {'Rank': '228',\n",
       "  'Movie Title': 'Pirates of the Caribbean: The Curse of the Black Pearl'},\n",
       " {'Rank': '229', 'Movie Title': 'Into the Wild'},\n",
       " {'Rank': '230', 'Movie Title': 'The Incredibles'},\n",
       " {'Rank': '231', 'Movie Title': 'To Be or Not to Be'},\n",
       " {'Rank': '232', 'Movie Title': 'Babam ve Oglum'},\n",
       " {'Rank': '233', 'Movie Title': \"Hachi: A Dog's Tale\"},\n",
       " {'Rank': '234', 'Movie Title': 'Ah-ga-ssi'},\n",
       " {'Rank': '235', 'Movie Title': 'The Grapes of Wrath'},\n",
       " {'Rank': '236', 'Movie Title': 'Groundhog Day'},\n",
       " {'Rank': '237', 'Movie Title': 'La battaglia di Algeri'},\n",
       " {'Rank': '238', 'Movie Title': 'Amores perros'},\n",
       " {'Rank': '239', 'Movie Title': 'Rebecca'},\n",
       " {'Rank': '240', 'Movie Title': 'The Sound of Music'},\n",
       " {'Rank': '241', 'Movie Title': 'Cool Hand Luke'},\n",
       " {'Rank': '242', 'Movie Title': 'Pather Panchali'},\n",
       " {'Rank': '243', 'Movie Title': 'The Iron Giant'},\n",
       " {'Rank': '244', 'Movie Title': 'It Happened One Night'},\n",
       " {'Rank': '245', 'Movie Title': 'The Help'},\n",
       " {'Rank': '246', 'Movie Title': 'Les quatre cents coups'},\n",
       " {'Rank': '247', 'Movie Title': 'Persona'},\n",
       " {'Rank': '248', 'Movie Title': 'Life of Brian'},\n",
       " {'Rank': '249', 'Movie Title': 'Aladdin'},\n",
       " {'Rank': '250', 'Movie Title': 'Drishyam'}]"
      ]
     },
     "execution_count": 9,
     "metadata": {},
     "output_type": "execute_result"
    }
   ],
   "source": [
    "formatted_movie_data"
   ]
  },
  {
   "cell_type": "code",
   "execution_count": 10,
   "id": "38c30d73",
   "metadata": {},
   "outputs": [
    {
     "name": "stdout",
     "output_type": "stream",
     "text": [
      "{'Rank': ['1', '2', '3', '4', '5', '6', '7', '8', '9', '10', '11', '12', '13', '14', '15', '16', '17', '18', '19', '20', '21', '22', '23', '24', '25', '26', '27', '28', '29', '30', '31', '32', '33', '34', '35', '36', '37', '38', '39', '40', '41', '42', '43', '44', '45', '46', '47', '48', '49', '50', '51', '52', '53', '54', '55', '56', '57', '58', '59', '60', '61', '62', '63', '64', '65', '66', '67', '68', '69', '70', '71', '72', '73', '74', '75', '76', '77', '78', '79', '80', '81', '82', '83', '84', '85', '86', '87', '88', '89', '90', '91', '92', '93', '94', '95', '96', '97', '98', '99', '100', '101', '102', '103', '104', '105', '106', '107', '108', '109', '110', '111', '112', '113', '114', '115', '116', '117', '118', '119', '120', '121', '122', '123', '124', '125', '126', '127', '128', '129', '130', '131', '132', '133', '134', '135', '136', '137', '138', '139', '140', '141', '142', '143', '144', '145', '146', '147', '148', '149', '150', '151', '152', '153', '154', '155', '156', '157', '158', '159', '160', '161', '162', '163', '164', '165', '166', '167', '168', '169', '170', '171', '172', '173', '174', '175', '176', '177', '178', '179', '180', '181', '182', '183', '184', '185', '186', '187', '188', '189', '190', '191', '192', '193', '194', '195', '196', '197', '198', '199', '200', '201', '202', '203', '204', '205', '206', '207', '208', '209', '210', '211', '212', '213', '214', '215', '216', '217', '218', '219', '220', '221', '222', '223', '224', '225', '226', '227', '228', '229', '230', '231', '232', '233', '234', '235', '236', '237', '238', '239', '240', '241', '242', '243', '244', '245', '246', '247', '248', '249', '250'], 'Movie Title': ['The Shawshank Redemption', 'The Godfather', 'The Dark Knight', 'The Godfather Part II', '12 Angry Men', \"Schindler's List\", 'The Lord of the Rings: The Return of the King', 'Pulp Fiction', 'The Lord of the Rings: The Fellowship of the Ring', 'Il buono, il brutto, il cattivo', 'Forrest Gump', 'Fight Club', 'The Lord of the Rings: The Two Towers', 'Inception', 'Star Wars: Episode V - The Empire Strikes Back', 'The Matrix', 'Goodfellas', \"One Flew Over the Cuckoo's Nest\", 'Se7en', \"It's a Wonderful Life\", 'Shichinin no samurai', 'Spider-Man: Across the Spider-Verse', 'Interstellar', 'The Silence of the Lambs', 'Saving Private Ryan', 'Cidade de Deus', 'La vita è bella', 'The Green Mile', 'Star Wars', 'Terminator 2: Judgment Day', 'Back to the Future', 'Sen to Chihiro no kamikakushi', 'The Pianist', 'Psycho', 'Gisaengchung', 'Gladiator', 'The Lion King', 'Léon', 'American History X', 'The Departed', 'Whiplash', 'The Prestige', 'The Usual Suspects', 'Hotaru no haka', 'Seppuku', 'Casablanca', 'Oppenheimer', 'Intouchables', 'Modern Times', 'Nuovo Cinema Paradiso', \"C'era una volta il West\", 'Rear Window', 'Alien', 'City Lights', 'Apocalypse Now', 'Memento', 'Django Unchained', 'Raiders of the Lost Ark', 'WALL·E', 'Das Leben der Anderen', 'Sunset Blvd.', 'Paths of Glory', 'Avengers: Infinity War', 'The Shining', 'The Great Dictator', 'Witness for the Prosecution', 'Spider-Man: Into the Spider-Verse', 'Alien 2', 'Inglourious Basterds', 'The Dark Knight Rises', 'American Beauty', 'Dr. Strangelove or: How I Learned to Stop Worrying and Love the Bomb', 'Oldeuboi', 'Coco', 'Amadeus', 'Toy Story', 'Das Boot', 'Braveheart', 'Avengers: Endgame', 'Joker', 'Mononoke-hime', 'Good Will Hunting', 'Kimi no na wa.', 'Once Upon a Time in America', '3 Idiots', 'Tengoku to jigoku', \"Singin' in the Rain\", 'Capharnaüm', 'Requiem for a Dream', 'Toy Story 3', 'Idi i smotri', 'Star Wars: Episode VI - Return of the Jedi', 'Eternal Sunshine of the Spotless Mind', '2001: A Space Odyssey', 'Jagten', 'Reservoir Dogs', 'Ikiru', 'Lawrence of Arabia', 'Citizen Kane', 'M - Eine Stadt sucht einen Mörder', 'The Apartment', 'North by Northwest', 'Vertigo', 'Double Indemnity', \"Le fabuleux destin d'Amélie Poulain\", 'Scarface', 'Full Metal Jacket', 'A Clockwork Orange', 'Incendies', 'Heat', 'Up', 'Hamilton', 'To Kill a Mockingbird', 'The Sting', 'Jodaeiye Nader az Simin', 'Indiana Jones and the Last Crusade', 'Metropolis', 'Die Hard', 'Taare Zameen Par', 'Snatch', 'Ladri di biciclette', 'L.A. Confidential', 'Taxi Driver', '1917', 'Der Untergang', 'Dangal', 'Per qualche dollaro in più', 'Batman Begins', 'Top Gun: Maverick', 'Some Like It Hot', 'The Kid', 'The Wolf of Wall Street', 'The Father', 'Green Book', 'All About Eve', 'Judgment at Nuremberg', 'The Truman Show', 'There Will Be Blood', 'Casino', 'Ran', 'Shutter Island', 'El laberinto del fauno', 'The Sixth Sense', 'Jurassic Park', 'Unforgiven', 'A Beautiful Mind', 'The Treasure of the Sierra Madre', 'Yôjinbô', 'No Country for Old Men', 'Kill Bill: Vol. 1', 'Monty Python and the Holy Grail', 'The Thing', 'The Great Escape', 'Rashômon', 'Finding Nemo', 'The Elephant Man', 'Chinatown', 'Hauru no ugoku shiro', 'Dial M for Murder', 'Gone with the Wind', 'V for Vendetta', 'Raging Bull', 'Lock, Stock and Two Smoking Barrels', 'Prisoners', 'El secreto de sus ojos', 'Spider-Man: No Way Home', 'Inside Out', 'Three Billboards Outside Ebbing, Missouri', 'The Bridge on the River Kwai', 'Trainspotting', 'Fargo', 'Warrior', 'Gran Torino', 'Catch Me If You Can', 'Tonari no Totoro', 'Million Dollar Baby', 'Klaus', 'Harry Potter and the Deathly Hallows - Part 2', 'Bacheha-Ye aseman', 'Blade Runner', '12 Years a Slave', 'Before Sunrise', 'The Grand Budapest Hotel', 'The Gold Rush', 'Ben-Hur', 'Gone Girl', 'Barry Lyndon', 'On the Waterfront', 'Hacksaw Ridge', 'In the Name of the Father', 'Salinui chueok', 'The General', 'The Deer Hunter', 'Smultronstället', 'The Third Man', 'Relatos salvajes', 'Le salaire de la peur', 'Sherlock Jr.', 'Dead Poets Society', 'Mad Max: Fury Road', 'Mr. Smith Goes to Washington', 'Monsters, Inc.', 'Jaws', 'How to Train Your Dragon', 'Mary and Max.', 'Det sjunde inseglet', 'Ford v Ferrari', 'Room', 'The Big Lebowski', 'Tôkyô monogatari', 'Ratatouille', 'Rocky', 'Hotel Rwanda', 'Logan', \"La passion de Jeanne d'Arc\", 'Spotlight', 'Platoon', 'The Terminator', 'Jai Bhim', 'Before Sunset', 'Rush', 'Network', 'Stand by Me', 'The Best Years of Our Lives', 'The Exorcist', 'La haine', 'The Wizard of Oz', 'Pirates of the Caribbean: The Curse of the Black Pearl', 'Into the Wild', 'The Incredibles', 'To Be or Not to Be', 'Babam ve Oglum', \"Hachi: A Dog's Tale\", 'Ah-ga-ssi', 'The Grapes of Wrath', 'Groundhog Day', 'La battaglia di Algeri', 'Amores perros', 'Rebecca', 'The Sound of Music', 'Cool Hand Luke', 'Pather Panchali', 'The Iron Giant', 'It Happened One Night', 'The Help', 'Les quatre cents coups', 'Persona', 'Life of Brian', 'Aladdin', 'Drishyam']}\n"
     ]
    }
   ],
   "source": [
    "# Create an empty dictionary to store the converted data\n",
    "converted_data = {'Rank': [], 'Movie Title': []}\n",
    "\n",
    "for movie in formatted_movie_data:\n",
    "    converted_data['Rank'].append(movie['Rank'])\n",
    "    converted_data['Movie Title'].append(movie['Movie Title'])\n",
    "\n",
    "print(converted_data)"
   ]
  },
  {
   "cell_type": "code",
   "execution_count": 11,
   "id": "113f39b8",
   "metadata": {},
   "outputs": [
    {
     "name": "stdout",
     "output_type": "stream",
     "text": [
      "{'Release Years': ['1994', '1972', '2008', '1974', '1957', '1993', '2003', '1994', '2001', '1966', '1994', '1999', '2002', '2010', '1980', '1999', '1990', '1975', '1995', '1946', '1954', '2023', '2014', '1991', '1998', '2002', '1997', '1999', '1977', '1991', '1985', '2001', '2002', '1960', '2019', '2000', '1994', '1994', '1998', '2006', '2014', '2006', '1995', '1988', '1962', '1942', '2023', '2011', '1936', '1988', '1968', '1954', '1979', '1931', '1979', '2000', '2012', '1981', '2008', '2006', '1950', '1957', '2018', '1980', '1940', '1957', '2018', '1986', '2009', '2012', '1999', '1964', '2003', '2017', '1984', '1995', '1981', '1995', '2019', '2019', '1997', '1997', '2016', '1984', '2009', '1963', '1952', '2018', '2000', '2010', '1985', '1983', '2004', '1968', '2012', '1992', '1952', '1962', '1941', '1931', '1960', '1959', '1958', '1944', '2001', '1983', '1987', '1971', '2010', '1995', '2009', '2020', '1962', '1973', '2011', '1989', '1927', '1988', '2007', '2000', '1948', '1997', '1976', '2019', '2004', '2016', '1965', '2005', '2022', '1959', '1921', '2013', '2020', '2018', '1950', '1961', '1998', '2007', '1995', '1985', '2010', '2006', '1999', '1993', '1992', '2001', '1948', '1961', '2007', '2003', '1975', '1982', '1963', '1950', '2003', '1980', '1974', '2004', '1954', '1939', '2005', '1980', '1998', '2013', '2009', '2021', '2015', '2017', '1957', '1996', '1996', '2011', '2008', '2002', '1988', '2004', '2019', '2011', '1997', '1982', '2013', '1995', '2014', '1925', '1959', '2014', '1975', '1954', '2016', '1993', '2003', '1926', '1978', '1957', '1949', '2014', '1953', '1924', '1989', '2015', '1939', '2001', '1975', '2010', '2009', '1957', '2019', '2015', '1998', '1953', '2007', '1976', '2004', '2017', '1928', '2015', '1986', '1984', '2021', '2004', '2013', '1976', '1986', '1946', '1973', '1995', '1939', '2003', '2007', '2004', '1942', '2005', '2009', '2016', '1940', '1993', '1966', '2000', '1940', '1965', '1967', '1955', '1999', '1934', '2011', '1959', '1966', '1979', '1992', '2015']}\n"
     ]
    }
   ],
   "source": [
    "years_dic = {}\n",
    "years_dic['Release Years'] = [year for year in movie_list_dict['Release Years'] if re.match(r'\\d{4}', year)]\n",
    "print(years_dic)"
   ]
  },
  {
   "cell_type": "code",
   "execution_count": 12,
   "id": "3f709447",
   "metadata": {},
   "outputs": [
    {
     "name": "stdout",
     "output_type": "stream",
     "text": [
      "{'Movie Duration': ['2h 22m', '2h 55m', '2h 32m', '3h 22m', '1h 36m', '3h 15m', '3h 21m', '2h 34m', '2h 58m', '2h 41m', '2h 22m', '2h 19m', '2h 59m', '2h 28m', '2h 4m', '2h 16m', '2h 25m', '2h 13m', '2h 7m', '2h 10m', '3h 27m', '2h 20m', '2h 49m', '1h 58m', '2h 49m', '2h 10m', '1h 56m', '3h 9m', '2h 1m', '2h 17m', '1h 56m', '2h 5m', '2h 30m', '1h 49m', '2h 12m', '2h 35m', '1h 28m', '1h 50m', '1h 59m', '2h 31m', '1h 46m', '2h 10m', '1h 46m', '1h 29m', '2h 13m', '1h 42m', '1h 52m', '1h 27m', '2h 35m', '2h 45m', '1h 52m', '1h 57m', '1h 27m', '2h 27m', '1h 53m', '2h 45m', '1h 55m', '1h 38m', '2h 17m', '1h 50m', '1h 28m', '2h 29m', '2h 26m', '2h 5m', '1h 56m', '1h 57m', '2h 17m', '2h 33m', '2h 44m', '2h 2m', '1h 35m', '1h 45m', '2h 40m', '1h 21m', '2h 29m', '2h 58m', '3h 1m', '2h 2m', '2h 14m', '2h 6m', '1h 46m', '3h 49m', '2h 50m', '2h 23m', '1h 43m', '2h 6m', '1h 42m', '1h 43m', '2h 22m', '2h 11m', '1h 48m', '2h 29m', '1h 55m', '1h 39m', '2h 23m', '3h 38m', '1h 59m', '1h 57m', '2h 5m', '2h 16m', '2h 8m', '1h 47m', '2h 2m', '2h 50m', '1h 56m', '2h 16m', '2h 11m', '2h 50m', '1h 36m', '2h 40m', '2h 9m', '2h 9m', '2h 3m', '2h 7m', '2h 33m', '2h 12m', '2h 42m', '1h 44m', '1h 29m', '2h 18m', '1h 54m', '1h 59m', '2h 36m', '2h 41m', '2h 12m', '2h 20m', '2h 10m', '2h 1m', '1h 8m', '1h 37m', '2h 10m', '2h 18m', '2h 59m', '1h 43m', '2h 38m', '2h 58m', '2h 40m', '2h 18m', '1h 58m', '1h 47m', '2h 7m', '2h 10m', '2h 15m', '2h 6m', '1h 50m', '2h 2m', '1h 51m', '1h 31m', '1h 49m', '2h 52m', '1h 28m', '1h 40m', '2h 4m', '2h 10m', '1h 59m', '1h 45m', '3h 58m', '2h 12m', '2h 9m', '1h 47m', '2h 33m', '2h 9m', '2h 28m', '1h 35m', '1h 55m', '2h 41m', '1h 33m', '1h 38m', '2h 20m', '1h 56m', '2h 21m', '1h 26m', '2h 12m', '1h 36m', '2h 10m', '1h 29m', '1h 57m', '2h 14m', '1h 41m', '1h 39m', '1h 35m', '3h 32m', '2h 29m', '3h 5m', '1h 48m', '2h 19m', '2h 13m', '2h 11m', '1h 18m', '3h 3m', '1h 31m', '1h 44m', '2h 2m', '2h 11m', '2h 8m', '2h 9m', '1h 32m', '2h 4m', '1h 38m', '1h 32m', '1h 36m', '2h 32m', '1h 58m', '1h 57m', '2h 16m', '1h 51m', '2h 1m', '2h 17m', '1h 50m', '2h 9m', '1h 47m', '2h 44m', '1h 20m', '2h 3m', '2h 1m', '1h 29m', '2h 50m', '2h 2m', '1h 38m', '1h 42m', '2h 23m', '2h 28m', '1h 55m', '1h 39m', '1h 52m', '1h 33m', '2h 25m', '2h 9m', '1h 41m', '2h 1m', '2h 34m', '2h 10m', '2h 52m', '2h 7m', '2h 5m', '1h 26m', '1h 45m', '2h 26m', '1h 39m', '1h 25m', '1h 34m', '1h 30m', '2h 43m']}\n"
     ]
    }
   ],
   "source": [
    "time_dic = {}\n",
    "time_dic['Movie Duration'] = [value for value in movie_list_dict['Release Years'] if re.match(r'\\d+h \\d+m', value)]\n",
    "print(time_dic)"
   ]
  },
  {
   "cell_type": "code",
   "execution_count": 13,
   "id": "1587a0d7",
   "metadata": {},
   "outputs": [
    {
     "name": "stdout",
     "output_type": "stream",
     "text": [
      "{'Movie Type': ['R', 'R', 'PG-13', 'R', 'Approved', 'R', 'PG-13', 'R', 'PG-13', 'Approved', 'PG-13', 'R', 'PG-13', 'PG-13', 'PG', 'R', 'R', 'R', 'R', 'PG', 'Not Rated', 'PG', 'PG-13', 'R', 'R', 'R', 'PG-13', 'R', 'PG', 'R', 'PG', 'PG', 'R', 'R', 'R', 'R', 'G', 'R', 'R', 'R', 'R', 'PG-13', 'R', 'Not Rated', 'Not Rated', 'PG', 'R', 'R', 'G', 'PG', 'PG-13', 'PG', 'R', 'G', 'R', 'R', 'R', 'PG', 'G', 'R', 'Passed', 'Approved', 'PG-13', 'R', 'G', 'Approved', 'PG', 'R', 'R', 'PG-13', 'R', 'PG', 'R', 'PG', 'PG', 'G', 'R', 'PG-13', 'R', 'PG-13', 'R', 'TV-PG', 'R', 'PG-13', 'Not Rated', 'G', 'R', 'Unrated', 'G', 'Not Rated', 'PG', 'R', 'G', 'R', 'R', 'Not Rated', 'Approved', 'PG', 'Passed', 'Approved', 'Approved', 'PG', 'Passed', 'R', 'R', 'X', 'R', 'R', 'PG', 'PG-13', 'Approved', 'PG', 'PG-13', 'PG-13', 'Not Rated', 'R', 'PG', 'R', 'Not Rated', 'R', 'R', 'R', 'R', 'Not Rated', 'R', 'PG-13', 'PG-13', 'Passed', 'Passed', 'R', 'PG-13', 'PG-13', 'Passed', 'Approved', 'PG', 'R', 'R', 'R', 'R', 'R', 'PG-13', 'PG-13', 'R', 'PG-13', 'Passed', 'Not Rated', 'R', 'R', 'PG', 'R', 'Approved', 'Not Rated', 'G', 'PG', 'R', 'PG', 'PG', 'Passed', 'R', 'R', 'R', 'R', 'R', 'PG-13', 'PG', 'R', 'PG', 'R', 'R', 'PG-13', 'R', 'PG-13', 'G', 'PG-13', 'PG', 'PG-13', 'PG', 'R', 'R', 'R', 'R', 'Passed', 'G', 'R', 'PG', 'Approved', 'R', 'R', 'Not Rated', 'Passed', 'R', 'Not Rated', 'Approved', 'R', 'Not Rated', 'Passed', 'PG', 'R', 'Passed', 'G', 'PG', 'PG', 'Not Rated', 'Not Rated', 'PG-13', 'R', 'R', 'Not Rated', 'G', 'PG', 'PG-13', 'R', 'Passed', 'R', 'R', 'R', 'TV-MA', 'R', 'R', 'R', 'R', 'Approved', 'R', 'Not Rated', 'G', 'PG-13', 'R', 'PG', 'Passed', 'Not Rated', 'G', 'Not Rated', 'Passed', 'PG', 'Not Rated', 'R', 'Approved', 'G', 'GP', 'Not Rated', 'PG', 'Passed', 'PG-13', 'Not Rated', 'Not Rated', 'R', 'G', 'Not Rated']}\n"
     ]
    }
   ],
   "source": [
    "movie_types = {}\n",
    "movie_types['Movie Type'] = [value for value in movie_list_dict['Release Years'] if re.match(r'[A-Z]', value)]\n",
    "print(movie_types)"
   ]
  },
  {
   "cell_type": "code",
   "execution_count": 14,
   "id": "9251a4c6",
   "metadata": {},
   "outputs": [
    {
     "name": "stdout",
     "output_type": "stream",
     "text": [
      "{'Rank': ['1', '2', '3', '4', '5', '6', '7', '8', '9', '10', '11', '12', '13', '14', '15', '16', '17', '18', '19', '20', '21', '22', '23', '24', '25', '26', '27', '28', '29', '30', '31', '32', '33', '34', '35', '36', '37', '38', '39', '40', '41', '42', '43', '44', '45', '46', '47', '48', '49', '50', '51', '52', '53', '54', '55', '56', '57', '58', '59', '60', '61', '62', '63', '64', '65', '66', '67', '68', '69', '70', '71', '72', '73', '74', '75', '76', '77', '78', '79', '80', '81', '82', '83', '84', '85', '86', '87', '88', '89', '90', '91', '92', '93', '94', '95', '96', '97', '98', '99', '100', '101', '102', '103', '104', '105', '106', '107', '108', '109', '110', '111', '112', '113', '114', '115', '116', '117', '118', '119', '120', '121', '122', '123', '124', '125', '126', '127', '128', '129', '130', '131', '132', '133', '134', '135', '136', '137', '138', '139', '140', '141', '142', '143', '144', '145', '146', '147', '148', '149', '150', '151', '152', '153', '154', '155', '156', '157', '158', '159', '160', '161', '162', '163', '164', '165', '166', '167', '168', '169', '170', '171', '172', '173', '174', '175', '176', '177', '178', '179', '180', '181', '182', '183', '184', '185', '186', '187', '188', '189', '190', '191', '192', '193', '194', '195', '196', '197', '198', '199', '200', '201', '202', '203', '204', '205', '206', '207', '208', '209', '210', '211', '212', '213', '214', '215', '216', '217', '218', '219', '220', '221', '222', '223', '224', '225', '226', '227', '228', '229', '230', '231', '232', '233', '234', '235', '236', '237', '238', '239', '240', '241', '242', '243', '244', '245', '246', '247', '248', '249', '250'], 'Movie Title': ['The Shawshank Redemption', 'The Godfather', 'The Dark Knight', 'The Godfather Part II', '12 Angry Men', \"Schindler's List\", 'The Lord of the Rings: The Return of the King', 'Pulp Fiction', 'The Lord of the Rings: The Fellowship of the Ring', 'Il buono, il brutto, il cattivo', 'Forrest Gump', 'Fight Club', 'The Lord of the Rings: The Two Towers', 'Inception', 'Star Wars: Episode V - The Empire Strikes Back', 'The Matrix', 'Goodfellas', \"One Flew Over the Cuckoo's Nest\", 'Se7en', \"It's a Wonderful Life\", 'Shichinin no samurai', 'Spider-Man: Across the Spider-Verse', 'Interstellar', 'The Silence of the Lambs', 'Saving Private Ryan', 'Cidade de Deus', 'La vita è bella', 'The Green Mile', 'Star Wars', 'Terminator 2: Judgment Day', 'Back to the Future', 'Sen to Chihiro no kamikakushi', 'The Pianist', 'Psycho', 'Gisaengchung', 'Gladiator', 'The Lion King', 'Léon', 'American History X', 'The Departed', 'Whiplash', 'The Prestige', 'The Usual Suspects', 'Hotaru no haka', 'Seppuku', 'Casablanca', 'Oppenheimer', 'Intouchables', 'Modern Times', 'Nuovo Cinema Paradiso', \"C'era una volta il West\", 'Rear Window', 'Alien', 'City Lights', 'Apocalypse Now', 'Memento', 'Django Unchained', 'Raiders of the Lost Ark', 'WALL·E', 'Das Leben der Anderen', 'Sunset Blvd.', 'Paths of Glory', 'Avengers: Infinity War', 'The Shining', 'The Great Dictator', 'Witness for the Prosecution', 'Spider-Man: Into the Spider-Verse', 'Alien 2', 'Inglourious Basterds', 'The Dark Knight Rises', 'American Beauty', 'Dr. Strangelove or: How I Learned to Stop Worrying and Love the Bomb', 'Oldeuboi', 'Coco', 'Amadeus', 'Toy Story', 'Das Boot', 'Braveheart', 'Avengers: Endgame', 'Joker', 'Mononoke-hime', 'Good Will Hunting', 'Kimi no na wa.', 'Once Upon a Time in America', '3 Idiots', 'Tengoku to jigoku', \"Singin' in the Rain\", 'Capharnaüm', 'Requiem for a Dream', 'Toy Story 3', 'Idi i smotri', 'Star Wars: Episode VI - Return of the Jedi', 'Eternal Sunshine of the Spotless Mind', '2001: A Space Odyssey', 'Jagten', 'Reservoir Dogs', 'Ikiru', 'Lawrence of Arabia', 'Citizen Kane', 'M - Eine Stadt sucht einen Mörder', 'The Apartment', 'North by Northwest', 'Vertigo', 'Double Indemnity', \"Le fabuleux destin d'Amélie Poulain\", 'Scarface', 'Full Metal Jacket', 'A Clockwork Orange', 'Incendies', 'Heat', 'Up', 'Hamilton', 'To Kill a Mockingbird', 'The Sting', 'Jodaeiye Nader az Simin', 'Indiana Jones and the Last Crusade', 'Metropolis', 'Die Hard', 'Taare Zameen Par', 'Snatch', 'Ladri di biciclette', 'L.A. Confidential', 'Taxi Driver', '1917', 'Der Untergang', 'Dangal', 'Per qualche dollaro in più', 'Batman Begins', 'Top Gun: Maverick', 'Some Like It Hot', 'The Kid', 'The Wolf of Wall Street', 'The Father', 'Green Book', 'All About Eve', 'Judgment at Nuremberg', 'The Truman Show', 'There Will Be Blood', 'Casino', 'Ran', 'Shutter Island', 'El laberinto del fauno', 'The Sixth Sense', 'Jurassic Park', 'Unforgiven', 'A Beautiful Mind', 'The Treasure of the Sierra Madre', 'Yôjinbô', 'No Country for Old Men', 'Kill Bill: Vol. 1', 'Monty Python and the Holy Grail', 'The Thing', 'The Great Escape', 'Rashômon', 'Finding Nemo', 'The Elephant Man', 'Chinatown', 'Hauru no ugoku shiro', 'Dial M for Murder', 'Gone with the Wind', 'V for Vendetta', 'Raging Bull', 'Lock, Stock and Two Smoking Barrels', 'Prisoners', 'El secreto de sus ojos', 'Spider-Man: No Way Home', 'Inside Out', 'Three Billboards Outside Ebbing, Missouri', 'The Bridge on the River Kwai', 'Trainspotting', 'Fargo', 'Warrior', 'Gran Torino', 'Catch Me If You Can', 'Tonari no Totoro', 'Million Dollar Baby', 'Klaus', 'Harry Potter and the Deathly Hallows - Part 2', 'Bacheha-Ye aseman', 'Blade Runner', '12 Years a Slave', 'Before Sunrise', 'The Grand Budapest Hotel', 'The Gold Rush', 'Ben-Hur', 'Gone Girl', 'Barry Lyndon', 'On the Waterfront', 'Hacksaw Ridge', 'In the Name of the Father', 'Salinui chueok', 'The General', 'The Deer Hunter', 'Smultronstället', 'The Third Man', 'Relatos salvajes', 'Le salaire de la peur', 'Sherlock Jr.', 'Dead Poets Society', 'Mad Max: Fury Road', 'Mr. Smith Goes to Washington', 'Monsters, Inc.', 'Jaws', 'How to Train Your Dragon', 'Mary and Max.', 'Det sjunde inseglet', 'Ford v Ferrari', 'Room', 'The Big Lebowski', 'Tôkyô monogatari', 'Ratatouille', 'Rocky', 'Hotel Rwanda', 'Logan', \"La passion de Jeanne d'Arc\", 'Spotlight', 'Platoon', 'The Terminator', 'Jai Bhim', 'Before Sunset', 'Rush', 'Network', 'Stand by Me', 'The Best Years of Our Lives', 'The Exorcist', 'La haine', 'The Wizard of Oz', 'Pirates of the Caribbean: The Curse of the Black Pearl', 'Into the Wild', 'The Incredibles', 'To Be or Not to Be', 'Babam ve Oglum', \"Hachi: A Dog's Tale\", 'Ah-ga-ssi', 'The Grapes of Wrath', 'Groundhog Day', 'La battaglia di Algeri', 'Amores perros', 'Rebecca', 'The Sound of Music', 'Cool Hand Luke', 'Pather Panchali', 'The Iron Giant', 'It Happened One Night', 'The Help', 'Les quatre cents coups', 'Persona', 'Life of Brian', 'Aladdin', 'Drishyam'], 'Release Years': ['1994', '1972', '2008', '1974', '1957', '1993', '2003', '1994', '2001', '1966', '1994', '1999', '2002', '2010', '1980', '1999', '1990', '1975', '1995', '1946', '1954', '2023', '2014', '1991', '1998', '2002', '1997', '1999', '1977', '1991', '1985', '2001', '2002', '1960', '2019', '2000', '1994', '1994', '1998', '2006', '2014', '2006', '1995', '1988', '1962', '1942', '2023', '2011', '1936', '1988', '1968', '1954', '1979', '1931', '1979', '2000', '2012', '1981', '2008', '2006', '1950', '1957', '2018', '1980', '1940', '1957', '2018', '1986', '2009', '2012', '1999', '1964', '2003', '2017', '1984', '1995', '1981', '1995', '2019', '2019', '1997', '1997', '2016', '1984', '2009', '1963', '1952', '2018', '2000', '2010', '1985', '1983', '2004', '1968', '2012', '1992', '1952', '1962', '1941', '1931', '1960', '1959', '1958', '1944', '2001', '1983', '1987', '1971', '2010', '1995', '2009', '2020', '1962', '1973', '2011', '1989', '1927', '1988', '2007', '2000', '1948', '1997', '1976', '2019', '2004', '2016', '1965', '2005', '2022', '1959', '1921', '2013', '2020', '2018', '1950', '1961', '1998', '2007', '1995', '1985', '2010', '2006', '1999', '1993', '1992', '2001', '1948', '1961', '2007', '2003', '1975', '1982', '1963', '1950', '2003', '1980', '1974', '2004', '1954', '1939', '2005', '1980', '1998', '2013', '2009', '2021', '2015', '2017', '1957', '1996', '1996', '2011', '2008', '2002', '1988', '2004', '2019', '2011', '1997', '1982', '2013', '1995', '2014', '1925', '1959', '2014', '1975', '1954', '2016', '1993', '2003', '1926', '1978', '1957', '1949', '2014', '1953', '1924', '1989', '2015', '1939', '2001', '1975', '2010', '2009', '1957', '2019', '2015', '1998', '1953', '2007', '1976', '2004', '2017', '1928', '2015', '1986', '1984', '2021', '2004', '2013', '1976', '1986', '1946', '1973', '1995', '1939', '2003', '2007', '2004', '1942', '2005', '2009', '2016', '1940', '1993', '1966', '2000', '1940', '1965', '1967', '1955', '1999', '1934', '2011', '1959', '1966', '1979', '1992', '2015'], 'Movie Duration': ['2h 22m', '2h 55m', '2h 32m', '3h 22m', '1h 36m', '3h 15m', '3h 21m', '2h 34m', '2h 58m', '2h 41m', '2h 22m', '2h 19m', '2h 59m', '2h 28m', '2h 4m', '2h 16m', '2h 25m', '2h 13m', '2h 7m', '2h 10m', '3h 27m', '2h 20m', '2h 49m', '1h 58m', '2h 49m', '2h 10m', '1h 56m', '3h 9m', '2h 1m', '2h 17m', '1h 56m', '2h 5m', '2h 30m', '1h 49m', '2h 12m', '2h 35m', '1h 28m', '1h 50m', '1h 59m', '2h 31m', '1h 46m', '2h 10m', '1h 46m', '1h 29m', '2h 13m', '1h 42m', '1h 52m', '1h 27m', '2h 35m', '2h 45m', '1h 52m', '1h 57m', '1h 27m', '2h 27m', '1h 53m', '2h 45m', '1h 55m', '1h 38m', '2h 17m', '1h 50m', '1h 28m', '2h 29m', '2h 26m', '2h 5m', '1h 56m', '1h 57m', '2h 17m', '2h 33m', '2h 44m', '2h 2m', '1h 35m', '1h 45m', '2h 40m', '1h 21m', '2h 29m', '2h 58m', '3h 1m', '2h 2m', '2h 14m', '2h 6m', '1h 46m', '3h 49m', '2h 50m', '2h 23m', '1h 43m', '2h 6m', '1h 42m', '1h 43m', '2h 22m', '2h 11m', '1h 48m', '2h 29m', '1h 55m', '1h 39m', '2h 23m', '3h 38m', '1h 59m', '1h 57m', '2h 5m', '2h 16m', '2h 8m', '1h 47m', '2h 2m', '2h 50m', '1h 56m', '2h 16m', '2h 11m', '2h 50m', '1h 36m', '2h 40m', '2h 9m', '2h 9m', '2h 3m', '2h 7m', '2h 33m', '2h 12m', '2h 42m', '1h 44m', '1h 29m', '2h 18m', '1h 54m', '1h 59m', '2h 36m', '2h 41m', '2h 12m', '2h 20m', '2h 10m', '2h 1m', '1h 8m', '1h 37m', '2h 10m', '2h 18m', '2h 59m', '1h 43m', '2h 38m', '2h 58m', '2h 40m', '2h 18m', '1h 58m', '1h 47m', '2h 7m', '2h 10m', '2h 15m', '2h 6m', '1h 50m', '2h 2m', '1h 51m', '1h 31m', '1h 49m', '2h 52m', '1h 28m', '1h 40m', '2h 4m', '2h 10m', '1h 59m', '1h 45m', '3h 58m', '2h 12m', '2h 9m', '1h 47m', '2h 33m', '2h 9m', '2h 28m', '1h 35m', '1h 55m', '2h 41m', '1h 33m', '1h 38m', '2h 20m', '1h 56m', '2h 21m', '1h 26m', '2h 12m', '1h 36m', '2h 10m', '1h 29m', '1h 57m', '2h 14m', '1h 41m', '1h 39m', '1h 35m', '3h 32m', '2h 29m', '3h 5m', '1h 48m', '2h 19m', '2h 13m', '2h 11m', '1h 18m', '3h 3m', '1h 31m', '1h 44m', '2h 2m', '2h 11m', '2h 8m', '2h 9m', '1h 32m', '2h 4m', '1h 38m', '1h 32m', '1h 36m', '2h 32m', '1h 58m', '1h 57m', '2h 16m', '1h 51m', '2h 1m', '2h 17m', '1h 50m', '2h 9m', '1h 47m', '2h 44m', '1h 20m', '2h 3m', '2h 1m', '1h 29m', '2h 50m', '2h 2m', '1h 38m', '1h 42m', '2h 23m', '2h 28m', '1h 55m', '1h 39m', '1h 52m', '1h 33m', '2h 25m', '2h 9m', '1h 41m', '2h 1m', '2h 34m', '2h 10m', '2h 52m', '2h 7m', '2h 5m', '1h 26m', '1h 45m', '2h 26m', '1h 39m', '1h 25m', '1h 34m', '1h 30m', '2h 43m'], 'Movie Type': ['R', 'R', 'PG-13', 'R', 'Approved', 'R', 'PG-13', 'R', 'PG-13', 'Approved', 'PG-13', 'R', 'PG-13', 'PG-13', 'PG', 'R', 'R', 'R', 'R', 'PG', 'Not Rated', 'PG', 'PG-13', 'R', 'R', 'R', 'PG-13', 'R', 'PG', 'R', 'PG', 'PG', 'R', 'R', 'R', 'R', 'G', 'R', 'R', 'R', 'R', 'PG-13', 'R', 'Not Rated', 'Not Rated', 'PG', 'R', 'R', 'G', 'PG', 'PG-13', 'PG', 'R', 'G', 'R', 'R', 'R', 'PG', 'G', 'R', 'Passed', 'Approved', 'PG-13', 'R', 'G', 'Approved', 'PG', 'R', 'R', 'PG-13', 'R', 'PG', 'R', 'PG', 'PG', 'G', 'R', 'PG-13', 'R', 'PG-13', 'R', 'TV-PG', 'R', 'PG-13', 'Not Rated', 'G', 'R', 'Unrated', 'G', 'Not Rated', 'PG', 'R', 'G', 'R', 'R', 'Not Rated', 'Approved', 'PG', 'Passed', 'Approved', 'Approved', 'PG', 'Passed', 'R', 'R', 'X', 'R', 'R', 'PG', 'PG-13', 'Approved', 'PG', 'PG-13', 'PG-13', 'Not Rated', 'R', 'PG', 'R', 'Not Rated', 'R', 'R', 'R', 'R', 'Not Rated', 'R', 'PG-13', 'PG-13', 'Passed', 'Passed', 'R', 'PG-13', 'PG-13', 'Passed', 'Approved', 'PG', 'R', 'R', 'R', 'R', 'R', 'PG-13', 'PG-13', 'R', 'PG-13', 'Passed', 'Not Rated', 'R', 'R', 'PG', 'R', 'Approved', 'Not Rated', 'G', 'PG', 'R', 'PG', 'PG', 'Passed', 'R', 'R', 'R', 'R', 'R', 'PG-13', 'PG', 'R', 'PG', 'R', 'R', 'PG-13', 'R', 'PG-13', 'G', 'PG-13', 'PG', 'PG-13', 'PG', 'R', 'R', 'R', 'R', 'Passed', 'G', 'R', 'PG', 'Approved', 'R', 'R', 'Not Rated', 'Passed', 'R', 'Not Rated', 'Approved', 'R', 'Not Rated', 'Passed', 'PG', 'R', 'Passed', 'G', 'PG', 'PG', 'Not Rated', 'Not Rated', 'PG-13', 'R', 'R', 'Not Rated', 'G', 'PG', 'PG-13', 'R', 'Passed', 'R', 'R', 'R', 'TV-MA', 'R', 'R', 'R', 'R', 'Approved', 'R', 'Not Rated', 'G', 'PG-13', 'R', 'PG', 'Passed', 'Not Rated', 'G', 'Not Rated', 'Passed', 'PG', 'Not Rated', 'R', 'Approved', 'G', 'GP', 'Not Rated', 'PG', 'Passed', 'PG-13', 'Not Rated', 'Not Rated', 'R', 'G', 'Not Rated']}\n"
     ]
    }
   ],
   "source": [
    "combined_data = {**converted_data, **years_dic, **time_dic, **movie_types}\n",
    "print(combined_data)"
   ]
  },
  {
   "cell_type": "code",
   "execution_count": 15,
   "id": "4848ca18",
   "metadata": {},
   "outputs": [],
   "source": [
    "max_length = max(len(combined_data['Rank']), len(combined_data['Movie Title']))"
   ]
  },
  {
   "cell_type": "code",
   "execution_count": 16,
   "id": "cfc75c1c",
   "metadata": {},
   "outputs": [],
   "source": [
    "for key in combined_data:\n",
    "    if len(combined_data[key]) < max_length:\n",
    "        combined_data[key] += [np.nan] * (max_length - len(combined_data[key]))\n",
    "\n",
    "df = pd.DataFrame(combined_data)"
   ]
  },
  {
   "cell_type": "code",
   "execution_count": 17,
   "id": "a7b024a0",
   "metadata": {},
   "outputs": [
    {
     "data": {
      "text/html": [
       "<div>\n",
       "<style scoped>\n",
       "    .dataframe tbody tr th:only-of-type {\n",
       "        vertical-align: middle;\n",
       "    }\n",
       "\n",
       "    .dataframe tbody tr th {\n",
       "        vertical-align: top;\n",
       "    }\n",
       "\n",
       "    .dataframe thead th {\n",
       "        text-align: right;\n",
       "    }\n",
       "</style>\n",
       "<table border=\"1\" class=\"dataframe\">\n",
       "  <thead>\n",
       "    <tr style=\"text-align: right;\">\n",
       "      <th></th>\n",
       "      <th>Rank</th>\n",
       "      <th>Movie Title</th>\n",
       "      <th>Release Years</th>\n",
       "      <th>Movie Duration</th>\n",
       "      <th>Movie Type</th>\n",
       "    </tr>\n",
       "  </thead>\n",
       "  <tbody>\n",
       "    <tr>\n",
       "      <th>0</th>\n",
       "      <td>1</td>\n",
       "      <td>The Shawshank Redemption</td>\n",
       "      <td>1994</td>\n",
       "      <td>2h 22m</td>\n",
       "      <td>R</td>\n",
       "    </tr>\n",
       "    <tr>\n",
       "      <th>1</th>\n",
       "      <td>2</td>\n",
       "      <td>The Godfather</td>\n",
       "      <td>1972</td>\n",
       "      <td>2h 55m</td>\n",
       "      <td>R</td>\n",
       "    </tr>\n",
       "    <tr>\n",
       "      <th>2</th>\n",
       "      <td>3</td>\n",
       "      <td>The Dark Knight</td>\n",
       "      <td>2008</td>\n",
       "      <td>2h 32m</td>\n",
       "      <td>PG-13</td>\n",
       "    </tr>\n",
       "    <tr>\n",
       "      <th>3</th>\n",
       "      <td>4</td>\n",
       "      <td>The Godfather Part II</td>\n",
       "      <td>1974</td>\n",
       "      <td>3h 22m</td>\n",
       "      <td>R</td>\n",
       "    </tr>\n",
       "    <tr>\n",
       "      <th>4</th>\n",
       "      <td>5</td>\n",
       "      <td>12 Angry Men</td>\n",
       "      <td>1957</td>\n",
       "      <td>1h 36m</td>\n",
       "      <td>Approved</td>\n",
       "    </tr>\n",
       "  </tbody>\n",
       "</table>\n",
       "</div>"
      ],
      "text/plain": [
       "  Rank               Movie Title Release Years Movie Duration Movie Type\n",
       "0    1  The Shawshank Redemption          1994         2h 22m          R\n",
       "1    2             The Godfather          1972         2h 55m          R\n",
       "2    3           The Dark Knight          2008         2h 32m      PG-13\n",
       "3    4     The Godfather Part II          1974         3h 22m          R\n",
       "4    5              12 Angry Men          1957         1h 36m   Approved"
      ]
     },
     "execution_count": 17,
     "metadata": {},
     "output_type": "execute_result"
    }
   ],
   "source": [
    "df.head()"
   ]
  },
  {
   "cell_type": "code",
   "execution_count": 21,
   "id": "4bef8a0d",
   "metadata": {},
   "outputs": [],
   "source": [
    "df.to_csv('top_250_movies.csv', index=False)"
   ]
  },
  {
   "cell_type": "code",
   "execution_count": null,
   "id": "7ac94216",
   "metadata": {},
   "outputs": [],
   "source": []
  }
 ],
 "metadata": {
  "kernelspec": {
   "display_name": "Python 3 (ipykernel)",
   "language": "python",
   "name": "python3"
  },
  "language_info": {
   "codemirror_mode": {
    "name": "ipython",
    "version": 3
   },
   "file_extension": ".py",
   "mimetype": "text/x-python",
   "name": "python",
   "nbconvert_exporter": "python",
   "pygments_lexer": "ipython3",
   "version": "3.9.13"
  }
 },
 "nbformat": 4,
 "nbformat_minor": 5
}
